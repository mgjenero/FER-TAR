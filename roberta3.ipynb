{
 "metadata": {
  "kernelspec": {
   "language": "python",
   "display_name": "Python 3",
   "name": "python3"
  },
  "language_info": {
   "name": "python",
   "version": "3.7.12",
   "mimetype": "text/x-python",
   "codemirror_mode": {
    "name": "ipython",
    "version": 3
   },
   "pygments_lexer": "ipython3",
   "nbconvert_exporter": "python",
   "file_extension": ".py"
  }
 },
 "nbformat_minor": 4,
 "nbformat": 4,
 "cells": [
  {
   "cell_type": "code",
   "source": [
    "import matplotlib.pyplot as plt\n",
    "import numpy as np\n",
    "import seaborn as sns\n",
    "import pandas as pd\n",
    "import emoji as em\n",
    "import torch\n",
    "import spacy\n",
    "import json\n",
    "\n",
    "from spacy.tokenizer import Tokenizer\n",
    "\n",
    "from spacy.lang.en import English\n",
    "\n",
    "from sklearn.metrics import accuracy_score, confusion_matrix, precision_recall_fscore_support\n",
    "\n",
    "from torch.utils.data import Dataset, SubsetRandomSampler, DataLoader\n",
    "\n",
    "from transformers import AutoTokenizer, AdamW, get_scheduler, AutoModelForSequenceClassification\n",
    "\n",
    "import warnings\n",
    "\n",
    "warnings.filterwarnings('ignore')\n",
    "\n",
    "import logging\n",
    "\n",
    "logging.getLogger(\"transformers.tokenization_utils_base\").setLevel(logging.ERROR)"
   ],
   "metadata": {
    "pycharm": {
     "name": "#%%\n"
    },
    "id": "3Yah4yid5ZNf",
    "execution": {
     "iopub.status.busy": "2022-05-17T19:59:28.233690Z",
     "iopub.execute_input": "2022-05-17T19:59:28.233953Z",
     "iopub.status.idle": "2022-05-17T19:59:28.243406Z",
     "shell.execute_reply.started": "2022-05-17T19:59:28.233921Z",
     "shell.execute_reply": "2022-05-17T19:59:28.242682Z"
    },
    "trusted": true
   },
   "execution_count": 32,
   "outputs": []
  },
  {
   "cell_type": "code",
   "source": [
    "np.random.seed(42)\n",
    "torch.manual_seed(42)\n",
    "torch.cuda.manual_seed(42)\n",
    "\n",
    "if torch.cuda.is_available():\n",
    "    device = torch.device('cuda:0')\n",
    "    torch.backends.cudnn.deterministic = True\n",
    "    torch.backends.cudnn.benchmark = False\n",
    "else:\n",
    "    device = torch.device('cpu')\n",
    "\n",
    "print(device)"
   ],
   "metadata": {
    "pycharm": {
     "name": "#%%\n"
    },
    "id": "FBlEZ-M65ZNh",
    "outputId": "eb04c62e-48be-4563-da98-7bfb248acd4a",
    "execution": {
     "iopub.status.busy": "2022-05-17T19:59:28.396795Z",
     "iopub.execute_input": "2022-05-17T19:59:28.397055Z",
     "iopub.status.idle": "2022-05-17T19:59:28.403877Z",
     "shell.execute_reply.started": "2022-05-17T19:59:28.397027Z",
     "shell.execute_reply": "2022-05-17T19:59:28.402742Z"
    },
    "trusted": true
   },
   "execution_count": 33,
   "outputs": []
  },
  {
   "cell_type": "code",
   "source": [
    "train_dataset_path = \"../input/tweetseval3/dataset/SemEval2018-T3-train-taskA_emoji.txt\"\n",
    "test_dataset_path = \"../input/tweetseval3/dataset/SemEval2018-T3_gold_test_taskA_emoji.txt\"\n",
    "smileys_path  = \"../input/tweetseval3/dataset/emoticons.json\""
   ],
   "metadata": {
    "pycharm": {
     "name": "#%%\n"
    },
    "id": "6ysSwwSD5ZNi",
    "execution": {
     "iopub.status.busy": "2022-05-17T19:59:28.677024Z",
     "iopub.execute_input": "2022-05-17T19:59:28.677579Z",
     "iopub.status.idle": "2022-05-17T19:59:28.682152Z",
     "shell.execute_reply.started": "2022-05-17T19:59:28.677538Z",
     "shell.execute_reply": "2022-05-17T19:59:28.681304Z"
    },
    "trusted": true
   },
   "execution_count": 34,
   "outputs": []
  },
  {
   "cell_type": "code",
   "source": [
    "train_df = pd.read_csv(train_dataset_path, sep=\"\\t\")\n",
    "train_df.rename(columns={\"Tweet index\": \"index\", \"Label\": \"label\", \"Tweet text\": \"text\"},\n",
    "                inplace=True)\n",
    "\n",
    "test_df = pd.read_csv(test_dataset_path, sep=\"\\t\")\n",
    "test_df.rename(columns={\"Tweet index\": \"index\", \"Label\": \"label\", \"Tweet text\": \"text\"},\n",
    "               inplace=True)\n",
    "test_df.head()"
   ],
   "metadata": {
    "pycharm": {
     "name": "#%%\n"
    },
    "id": "h2AWdirk5ZNj",
    "outputId": "f0763a82-e776-4819-aabf-4edde1422ba6",
    "execution": {
     "iopub.status.busy": "2022-05-17T19:59:28.962989Z",
     "iopub.execute_input": "2022-05-17T19:59:28.963210Z",
     "iopub.status.idle": "2022-05-17T19:59:28.989962Z",
     "shell.execute_reply.started": "2022-05-17T19:59:28.963184Z",
     "shell.execute_reply": "2022-05-17T19:59:28.989302Z"
    },
    "trusted": true
   },
   "execution_count": 35,
   "outputs": []
  },
  {
   "cell_type": "code",
   "source": [
    "plt.style.use(\"ggplot\")\n",
    "\n",
    "plt.figure(figsize=(10, 8))\n",
    "train_df[\"length\"] = train_df[\"text\"].apply(lambda x: len(x.split()))\n",
    "sns.histplot(train_df[\"length\"])\n",
    "plt.title(\"Frequency of documents of a given length\", fontsize=14)\n",
    "plt.xlabel(\"length\", fontsize=14)"
   ],
   "metadata": {
    "pycharm": {
     "name": "#%%\n"
    },
    "id": "SmnMPiKu5ZNk",
    "outputId": "1eb39b55-6cc1-44be-bd15-56bafaaef7e9",
    "execution": {
     "iopub.status.busy": "2022-05-17T19:59:29.278689Z",
     "iopub.execute_input": "2022-05-17T19:59:29.279522Z",
     "iopub.status.idle": "2022-05-17T19:59:29.728790Z",
     "shell.execute_reply.started": "2022-05-17T19:59:29.279472Z",
     "shell.execute_reply": "2022-05-17T19:59:29.728105Z"
    },
    "trusted": true
   },
   "execution_count": 36,
   "outputs": []
  },
  {
   "cell_type": "code",
   "source": [
    "def load_dict(filepath):\n",
    "    \"\"\"Loads dict from json file\"\"\"\n",
    "    file = open(filepath, \"r\", encoding=\"utf8\")\n",
    "    loaded_dict = file.read()\n",
    "    return json.loads(loaded_dict)\n",
    "\n",
    "tokenizer = Tokenizer(English().vocab)\n",
    "smiley_dict = load_dict(smileys_path)\n",
    "\n",
    "def preprocess(text):\n",
    "    new_text = []\n",
    "    l = tokenizer(text)\n",
    "    for t_n in l:\n",
    "        t = t_n.text\n",
    "        if '@' in t and len(t) > 1:\n",
    "            t = '@user'\n",
    "        elif 'http' in t.lower():\n",
    "            t = 'http'\n",
    "        elif t in smiley_dict:\n",
    "            t = smiley_dict[t]\n",
    "        t = em.demojize(t, delimiters=(\"\", \"\"))\n",
    "        new_text.append(t)\n",
    "    return \" \".join(new_text)"
   ],
   "metadata": {
    "collapsed": false,
    "pycharm": {
     "name": "#%%\n"
    },
    "jupyter": {
     "outputs_hidden": false
    },
    "execution": {
     "iopub.status.busy": "2022-05-17T19:59:29.730374Z",
     "iopub.execute_input": "2022-05-17T19:59:29.730794Z",
     "iopub.status.idle": "2022-05-17T19:59:29.918545Z",
     "shell.execute_reply.started": "2022-05-17T19:59:29.730738Z",
     "shell.execute_reply": "2022-05-17T19:59:29.917845Z"
    },
    "trusted": true
   },
   "execution_count": 37,
   "outputs": []
  },
  {
   "cell_type": "code",
   "source": [
    "class SarcasticSentenceDataset(Dataset):\n",
    "    def __init__(self, sentences, labels, tokenizer, max_len=128):\n",
    "        if len(sentences) != len(labels):\n",
    "            raise ValueError(\"Sentences and labels should have the same number of elements.\")\n",
    "\n",
    "        self.sentences = sentences\n",
    "        self.labels = labels\n",
    "        self.tokenizer = tokenizer\n",
    "        self.max_len = max_len\n",
    "\n",
    "    def __getitem__(self, index: int):\n",
    "        inputs = self.tokenizer(self.sentences[index],\n",
    "                                truncation=True,\n",
    "                                pad_to_max_length=True,\n",
    "                                return_tensors=\"pt\",\n",
    "                                max_length=self.max_len)\n",
    "\n",
    "        return {\n",
    "            \"input_ids\": inputs[\"input_ids\"].squeeze(),\n",
    "            \"attention_mask\": inputs[\"attention_mask\"].squeeze(),\n",
    "            \"labels\": torch.tensor(self.labels[index], dtype=torch.long)\n",
    "        }\n",
    "\n",
    "    def __len__(self):\n",
    "        return len(self.sentences)"
   ],
   "metadata": {
    "pycharm": {
     "name": "#%%\n"
    },
    "id": "pX1Aebmv5ZNl",
    "outputId": "1223f860-46cc-4035-9042-b7a73be9c877",
    "execution": {
     "iopub.status.busy": "2022-05-17T19:59:29.920210Z",
     "iopub.execute_input": "2022-05-17T19:59:29.920488Z",
     "iopub.status.idle": "2022-05-17T19:59:29.927795Z",
     "shell.execute_reply.started": "2022-05-17T19:59:29.920453Z",
     "shell.execute_reply": "2022-05-17T19:59:29.927014Z"
    },
    "trusted": true
   },
   "execution_count": 38,
   "outputs": []
  },
  {
   "cell_type": "code",
   "source": [
    "from tqdm.auto import tqdm\n",
    "import copy\n",
    "\n",
    "\n",
    "def train(model, \n",
    "          train_loader, \n",
    "          eval_loader,\n",
    "          device, \n",
    "          lr=5e-5,\n",
    "          num_epochs=5,\n",
    "          batch_size=8):\n",
    "        \n",
    "    num_training_steps = len(train_loader) * num_epochs\n",
    "    optimizer, lr_scheduler = setup_optimizer_and_scheduler(model,\n",
    "                                                         lr,\n",
    "                                                         0,\n",
    "                                                         num_training_steps)\n",
    "\n",
    "    progress_bar = tqdm(range(num_training_steps))\n",
    "    \n",
    "    best_f1 = 0\n",
    "    best_epoch = -1\n",
    "    best_params = copy.deepcopy(model.state_dict())\n",
    "    patience = 0\n",
    "    \n",
    "    for epoch in range(num_epochs):\n",
    "        model.train()\n",
    "        for batch in train_loader:\n",
    "            batch = {k: v.to(device) for k, v in batch.items()}\n",
    "\n",
    "            outputs = model(**batch)\n",
    "            loss = outputs.loss\n",
    "            loss.backward()\n",
    "\n",
    "            optimizer.step()\n",
    "            lr_scheduler.step()\n",
    "            optimizer.zero_grad()\n",
    "\n",
    "            progress_bar.update(1)\n",
    "            \n",
    "        metrics = evaluate(model, eval_loader, device)\n",
    "        print(f\"valid accuracy: {metrics['accuracy']}\\n\"\n",
    "              f\"valid precision: {metrics['precision']}\\n\"\n",
    "              f\"valid recall: {metrics['recall']}\\n\"\n",
    "              f\"valid f1: {metrics['f1']}\\n\")\n",
    "            \n",
    "        if metrics[\"f1\"] > best_f1:\n",
    "            best_f1 = metrics[\"f1\"]\n",
    "            best_epoch = epoch\n",
    "            best_params = copy.deepcopy(model.state_dict())\n",
    "            patience = 0\n",
    "        else:\n",
    "            patience += 1\n",
    "\n",
    "        print(f\"patience: {patience}\\n\")\n",
    "        if patience == 3:\n",
    "            break\n",
    "        \n",
    "    print(f\"best epoch: {best_epoch}\\n\"\n",
    "          f\"best f1: {best_f1}\\n\")\n",
    "\n",
    "    model.load_state_dict(best_params)\n",
    "    return model\n",
    "\n",
    "\n",
    "def setup_optimizer_and_scheduler(model, lr, num_warmup_steps, num_training_steps):\n",
    "    optimizer = AdamW(model.parameters(), lr=lr)\n",
    "    scheduler = lr_scheduler = get_scheduler(name=\"linear\", \n",
    "                                             optimizer=optimizer,\n",
    "                                             num_warmup_steps=num_warmup_steps,\n",
    "                                             num_training_steps=num_training_steps)\n",
    "    return optimizer, scheduler\n",
    "\n",
    "\n",
    "def evaluate(model, eval_loader, device):\n",
    "    model.eval()\n",
    "    labels_list = []\n",
    "    preds_list = []\n",
    "    with torch.no_grad():\n",
    "        for batch in eval_loader:\n",
    "            batch = {k: v.to(device) for k, v in batch.items()}\n",
    "\n",
    "            outputs = model(**batch)\n",
    "            _, preds = torch.max(outputs.logits, dim=1, keepdim=False)\n",
    "            labels_list.extend(batch[\"labels\"].cpu().numpy().tolist())\n",
    "            preds_list.extend(preds.cpu().numpy().tolist())\n",
    "\n",
    "    return compute_metrics(labels_list, preds_list)\n",
    "\n",
    "\n",
    "def compute_metrics(y_true, y_pred):\n",
    "    precision, recall, f1, _ = precision_recall_fscore_support(y_true, y_pred, average=\"macro\")\n",
    "    return {\n",
    "        \"accuracy\": accuracy_score(y_true, y_pred),\n",
    "        \"precision\": precision,\n",
    "        \"recall\": recall,\n",
    "        \"f1\": f1,\n",
    "        \"confusion_matrix\": confusion_matrix(y_true, y_pred)\n",
    "    }"
   ],
   "metadata": {
    "collapsed": false,
    "pycharm": {
     "name": "#%%\n"
    },
    "jupyter": {
     "outputs_hidden": false
    },
    "execution": {
     "iopub.status.busy": "2022-05-17T19:59:30.099464Z",
     "iopub.execute_input": "2022-05-17T19:59:30.099801Z",
     "iopub.status.idle": "2022-05-17T19:59:30.116613Z",
     "shell.execute_reply.started": "2022-05-17T19:59:30.099759Z",
     "shell.execute_reply": "2022-05-17T19:59:30.115832Z"
    },
    "trusted": true
   },
   "execution_count": 39,
   "outputs": []
  },
  {
   "cell_type": "code",
   "source": [
    "tokenizer = AutoTokenizer.from_pretrained(\"roberta-base\")\n",
    "train_dataset = SarcasticSentenceDataset(sentences=train_df[\"text\"].tolist(),\n",
    "                                         labels=train_df[\"label\"].tolist(),\n",
    "                                         tokenizer=tokenizer)\n",
    "\n",
    "test_dataset = SarcasticSentenceDataset(sentences=test_df[\"text\"].tolist(),\n",
    "                                        labels=test_df[\"label\"].tolist(),\n",
    "                                        tokenizer=tokenizer)\n",
    "\n",
    "item = train_dataset[0]\n",
    "print(f\"sentence: {train_df['text'][0]}\\n\"\n",
    "      f\"ids: {item['input_ids']}\\n\"\n",
    "      f\"attention_mask: {item['attention_mask']}\\n\"\n",
    "      f\"label: {item['labels']}\")"
   ],
   "metadata": {
    "execution": {
     "iopub.status.busy": "2022-05-17T19:59:30.284197Z",
     "iopub.execute_input": "2022-05-17T19:59:30.284707Z",
     "iopub.status.idle": "2022-05-17T19:59:34.957181Z",
     "shell.execute_reply.started": "2022-05-17T19:59:30.284670Z",
     "shell.execute_reply": "2022-05-17T19:59:34.956355Z"
    },
    "trusted": true,
    "pycharm": {
     "name": "#%%\n"
    }
   },
   "execution_count": 40,
   "outputs": []
  },
  {
   "cell_type": "code",
   "source": [
    "model = AutoModelForSequenceClassification.from_pretrained(\"roberta-base\", num_labels=2).to(device)"
   ],
   "metadata": {
    "execution": {
     "iopub.status.busy": "2022-05-17T19:59:34.958740Z",
     "iopub.execute_input": "2022-05-17T19:59:34.960600Z",
     "iopub.status.idle": "2022-05-17T19:59:37.418876Z",
     "shell.execute_reply.started": "2022-05-17T19:59:34.960561Z",
     "shell.execute_reply": "2022-05-17T19:59:37.418182Z"
    },
    "trusted": true,
    "pycharm": {
     "name": "#%%\n"
    }
   },
   "execution_count": 41,
   "outputs": []
  },
  {
   "cell_type": "code",
   "source": [
    "def setup_dataset_loaders(train_dataset, batch_size):\n",
    "    train_dataset_size = len(train_dataset)\n",
    "    indices = list(range(train_dataset_size))\n",
    "    split = int(np.floor(0.2 * train_dataset_size))\n",
    "    train_indices, eval_indices = indices[split:], indices[:split]\n",
    "    train_sampler = SubsetRandomSampler(train_indices)\n",
    "    eval_sampler = SubsetRandomSampler(eval_indices)\n",
    "\n",
    "    train_loader = DataLoader(train_dataset,\n",
    "                              sampler=train_sampler,\n",
    "                              batch_size=batch_size)\n",
    "    eval_loader = DataLoader(train_dataset,\n",
    "                                   sampler=eval_sampler,\n",
    "                                   batch_size=batch_size)\n",
    "\n",
    "    return train_loader, eval_loader\n",
    "\n",
    "\n",
    "train_loader, eval_loader = setup_dataset_loaders(train_dataset, batch_size=8)"
   ],
   "metadata": {
    "execution": {
     "iopub.status.busy": "2022-05-17T19:59:37.420350Z",
     "iopub.execute_input": "2022-05-17T19:59:37.420644Z",
     "iopub.status.idle": "2022-05-17T19:59:37.427460Z",
     "shell.execute_reply.started": "2022-05-17T19:59:37.420608Z",
     "shell.execute_reply": "2022-05-17T19:59:37.426532Z"
    },
    "trusted": true,
    "pycharm": {
     "name": "#%%\n"
    }
   },
   "execution_count": 42,
   "outputs": []
  },
  {
   "cell_type": "code",
   "source": [
    "model = train(model, train_loader, eval_loader, device, num_epochs=10, lr=5e-5)"
   ],
   "metadata": {
    "collapsed": false,
    "pycharm": {
     "name": "#%%\n"
    },
    "jupyter": {
     "outputs_hidden": false
    },
    "execution": {
     "iopub.status.busy": "2022-05-17T19:53:11.379320Z",
     "iopub.execute_input": "2022-05-17T19:53:11.379601Z",
     "iopub.status.idle": "2022-05-17T19:54:58.010158Z",
     "shell.execute_reply.started": "2022-05-17T19:53:11.379569Z",
     "shell.execute_reply": "2022-05-17T19:54:58.009076Z"
    },
    "trusted": true
   },
   "execution_count": 13,
   "outputs": []
  },
  {
   "cell_type": "code",
   "source": [
    "metrics = evaluate(model, DataLoader(test_dataset, batch_size=8), device)\n",
    "print(f\"test accuracy: {metrics['accuracy']}\\n\"\n",
    "      f\"test precision: {metrics['precision']}\\n\"\n",
    "      f\"test recall: {metrics['recall']}\\n\"\n",
    "      f\"test f1: {metrics['f1']}\\n\")\n",
    "\n",
    "sns.heatmap(metrics[\"confusion_matrix\"], annot=True, cmap='Blues')"
   ],
   "metadata": {
    "collapsed": false,
    "pycharm": {
     "name": "#%%\n"
    },
    "jupyter": {
     "outputs_hidden": false
    },
    "execution": {
     "iopub.status.busy": "2022-05-17T20:01:33.865624Z",
     "iopub.execute_input": "2022-05-17T20:01:33.866151Z",
     "iopub.status.idle": "2022-05-17T20:01:37.469084Z",
     "shell.execute_reply.started": "2022-05-17T20:01:33.866113Z",
     "shell.execute_reply": "2022-05-17T20:01:37.468388Z"
    },
    "trusted": true
   },
   "execution_count": 43,
   "outputs": []
  },
  {
   "cell_type": "code",
   "source": [
    "torch.save(model.state_dict(), \"model.pth\")\n",
    "print(\"model params saved\")"
   ],
   "metadata": {
    "pycharm": {
     "name": "#%%\n"
    }
   },
   "execution_count": null,
   "outputs": []
  }
 ]
}