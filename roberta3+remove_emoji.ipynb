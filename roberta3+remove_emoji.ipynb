{
 "cells": [
  {
   "cell_type": "code",
   "execution_count": 1,
   "metadata": {
    "execution": {
     "iopub.execute_input": "2022-05-18T10:41:29.139074Z",
     "iopub.status.busy": "2022-05-18T10:41:29.138741Z",
     "iopub.status.idle": "2022-05-18T10:41:40.303430Z",
     "shell.execute_reply": "2022-05-18T10:41:40.302715Z",
     "shell.execute_reply.started": "2022-05-18T10:41:29.138987Z"
    },
    "id": "3Yah4yid5ZNf",
    "pycharm": {
     "name": "#%%\n"
    },
    "trusted": true
   },
   "outputs": [],
   "source": [
    "import matplotlib.pyplot as plt\n",
    "import numpy as np\n",
    "import seaborn as sns\n",
    "import pandas as pd\n",
    "import emoji as em\n",
    "import torch\n",
    "import spacy\n",
    "import json\n",
    "\n",
    "from spacy.lang.en import English\n",
    "\n",
    "from sklearn.metrics import accuracy_score, confusion_matrix, precision_recall_fscore_support\n",
    "\n",
    "from torch.utils.data import Dataset, SubsetRandomSampler, DataLoader\n",
    "\n",
    "from transformers import AutoTokenizer, AdamW, get_scheduler, AutoModelForSequenceClassification\n",
    "\n",
    "import warnings\n",
    "\n",
    "warnings.filterwarnings('ignore')\n",
    "\n",
    "import logging\n",
    "\n",
    "logging.getLogger(\"transformers.tokenization_utils_base\").setLevel(logging.ERROR)"
   ]
  },
  {
   "cell_type": "code",
   "execution_count": 2,
   "metadata": {
    "execution": {
     "iopub.execute_input": "2022-05-18T10:41:40.305353Z",
     "iopub.status.busy": "2022-05-18T10:41:40.305101Z",
     "iopub.status.idle": "2022-05-18T10:41:40.314201Z",
     "shell.execute_reply": "2022-05-18T10:41:40.313521Z",
     "shell.execute_reply.started": "2022-05-18T10:41:40.305320Z"
    },
    "id": "FBlEZ-M65ZNh",
    "outputId": "eb04c62e-48be-4563-da98-7bfb248acd4a",
    "pycharm": {
     "name": "#%%\n"
    },
    "trusted": true
   },
   "outputs": [],
   "source": [
    "np.random.seed(42)\n",
    "torch.manual_seed(42)\n",
    "torch.cuda.manual_seed(42)\n",
    "\n",
    "if torch.cuda.is_available():\n",
    "    device = torch.device('cuda:0')\n",
    "    torch.backends.cudnn.deterministic = True\n",
    "    torch.backends.cudnn.benchmark = False\n",
    "else:\n",
    "    device = torch.device('cpu')\n",
    "\n",
    "print(device)"
   ]
  },
  {
   "cell_type": "code",
   "execution_count": 3,
   "metadata": {
    "execution": {
     "iopub.execute_input": "2022-05-18T10:41:40.315894Z",
     "iopub.status.busy": "2022-05-18T10:41:40.315463Z",
     "iopub.status.idle": "2022-05-18T10:41:40.322346Z",
     "shell.execute_reply": "2022-05-18T10:41:40.321631Z",
     "shell.execute_reply.started": "2022-05-18T10:41:40.315851Z"
    },
    "id": "6ysSwwSD5ZNi",
    "pycharm": {
     "name": "#%%\n"
    },
    "trusted": true
   },
   "outputs": [],
   "source": [
    "train_dataset_path = \"../input/tweetseval3/dataset/SemEval2018-T3-train-taskA_emoji.txt\"\n",
    "test_dataset_path = \"../input/tweetseval3/dataset/SemEval2018-T3_gold_test_taskA_emoji.txt\"\n",
    "emojis_path  = \"../input/tweetseval3/dataset/emoticons.json\""
   ]
  },
  {
   "cell_type": "code",
   "execution_count": null,
   "metadata": {},
   "outputs": [],
   "source": [
    "f1 = open('/content/bert_test_preprocessed.txt', 'r+')\n",
    "f2 = open('/content/new_bert_test_preprocessed.txt', 'w+')\n",
    "import re\n",
    "\n",
    "for line in f1:\n",
    "    words = line.split(\" \")\n",
    "    for word in words:\n",
    "      if not (word.startswith(':') and (word.endswith(':') or word.endswith(':\\n'))and len(word) > 1):\n",
    "        #print(word)\n",
    "        if word.endswith('\\n'):\n",
    "          f2.write(word)\n",
    "        else:\n",
    "          f2.write(word + ' ')\n",
    "      #else:\n",
    "        #print(word)"
   ]
  },
  {
   "cell_type": "code",
   "execution_count": 4,
   "metadata": {
    "execution": {
     "iopub.execute_input": "2022-05-18T10:41:40.325348Z",
     "iopub.status.busy": "2022-05-18T10:41:40.324526Z",
     "iopub.status.idle": "2022-05-18T10:41:40.377650Z",
     "shell.execute_reply": "2022-05-18T10:41:40.376985Z",
     "shell.execute_reply.started": "2022-05-18T10:41:40.325313Z"
    },
    "id": "h2AWdirk5ZNj",
    "outputId": "f0763a82-e776-4819-aabf-4edde1422ba6",
    "pycharm": {
     "name": "#%%\n"
    },
    "trusted": true
   },
   "outputs": [],
   "source": [
    "train_df = pd.read_csv(train_dataset_path, sep=\"\\t\")\n",
    "train_df.rename(columns={\"Tweet index\": \"index\", \"Label\": \"label\", \"Tweet text\": \"text\"},\n",
    "                inplace=True)\n",
    "\n",
    "test_df = pd.read_csv(test_dataset_path, sep=\"\\t\")\n",
    "test_df.rename(columns={\"Tweet index\": \"index\", \"Label\": \"label\", \"Tweet text\": \"text\"},\n",
    "               inplace=True)\n",
    "test_df.head()"
   ]
  },
  {
   "cell_type": "code",
   "execution_count": 5,
   "metadata": {
    "execution": {
     "iopub.execute_input": "2022-05-18T10:41:40.378835Z",
     "iopub.status.busy": "2022-05-18T10:41:40.378620Z",
     "iopub.status.idle": "2022-05-18T10:41:40.854253Z",
     "shell.execute_reply": "2022-05-18T10:41:40.853355Z",
     "shell.execute_reply.started": "2022-05-18T10:41:40.378805Z"
    },
    "id": "SmnMPiKu5ZNk",
    "outputId": "1eb39b55-6cc1-44be-bd15-56bafaaef7e9",
    "pycharm": {
     "name": "#%%\n"
    },
    "trusted": true
   },
   "outputs": [],
   "source": [
    "plt.style.use(\"ggplot\")\n",
    "\n",
    "plt.figure(figsize=(10, 8))\n",
    "train_df[\"length\"] = train_df[\"text\"].apply(lambda x: len(x.split()))\n",
    "sns.histplot(train_df[\"length\"])\n",
    "plt.title(\"Frequency of documents of a given length\", fontsize=14)\n",
    "plt.xlabel(\"length\", fontsize=14)"
   ]
  },
  {
   "cell_type": "code",
   "execution_count": 6,
   "metadata": {
    "collapsed": false,
    "execution": {
     "iopub.execute_input": "2022-05-18T10:41:40.855846Z",
     "iopub.status.busy": "2022-05-18T10:41:40.855594Z",
     "iopub.status.idle": "2022-05-18T10:41:41.298540Z",
     "shell.execute_reply": "2022-05-18T10:41:41.297813Z",
     "shell.execute_reply.started": "2022-05-18T10:41:40.855811Z"
    },
    "jupyter": {
     "outputs_hidden": false
    },
    "pycharm": {
     "name": "#%%\n"
    },
    "trusted": true
   },
   "outputs": [],
   "source": [
    "def load_dict(filepath):\n",
    "    \"\"\"Loads dict from json file\"\"\"\n",
    "    file = open(filepath, \"r\", encoding=\"utf8\")\n",
    "    loaded_dict = file.read()\n",
    "    return json.loads(loaded_dict)\n",
    "\n",
    "spacy_tokenizer = spacy.tokenizer.Tokenizer(English().vocab)\n",
    "emoji_dict = load_dict(emojis_path)\n",
    "\n",
    "def preprocess(text):\n",
    "    processed = []\n",
    "    for token in spacy_tokenizer(text):\n",
    "        token = token.text\n",
    "        if '@' in token and len(token) > 1:\n",
    "            token = '@user'\n",
    "        elif 'http' in token.lower():\n",
    "            token = 'http'\n",
    "        elif token in emoji_dict:\n",
    "            token = emoji_dict[token]\n",
    "            token = em.demojize(token, delimiters=(\"\", \"\"))\n",
    "        processed.append(token)\n",
    "    return \" \".join(processed)"
   ]
  },
  {
   "cell_type": "code",
   "execution_count": 7,
   "metadata": {
    "execution": {
     "iopub.execute_input": "2022-05-18T10:41:41.300133Z",
     "iopub.status.busy": "2022-05-18T10:41:41.299898Z",
     "iopub.status.idle": "2022-05-18T10:41:42.147752Z",
     "shell.execute_reply": "2022-05-18T10:41:42.147007Z",
     "shell.execute_reply.started": "2022-05-18T10:41:41.300102Z"
    },
    "pycharm": {
     "name": "#%%\n"
    },
    "trusted": true
   },
   "outputs": [],
   "source": [
    "train_df[\"text\"] = train_df[\"text\"].apply(lambda x: preprocess(x))\n",
    "test_df[\"text\"] = test_df[\"text\"].apply(lambda x: preprocess(x))\n",
    "\n",
    "test_df.head()"
   ]
  },
  {
   "cell_type": "code",
   "execution_count": 8,
   "metadata": {
    "execution": {
     "iopub.execute_input": "2022-05-18T10:41:42.151315Z",
     "iopub.status.busy": "2022-05-18T10:41:42.150760Z",
     "iopub.status.idle": "2022-05-18T10:41:42.159860Z",
     "shell.execute_reply": "2022-05-18T10:41:42.158994Z",
     "shell.execute_reply.started": "2022-05-18T10:41:42.151263Z"
    },
    "id": "pX1Aebmv5ZNl",
    "outputId": "1223f860-46cc-4035-9042-b7a73be9c877",
    "pycharm": {
     "name": "#%%\n"
    },
    "trusted": true
   },
   "outputs": [],
   "source": [
    "class SarcasticSentenceDataset(Dataset):\n",
    "    def __init__(self, sentences, labels, tokenizer, max_len=128):\n",
    "        if len(sentences) != len(labels):\n",
    "            raise ValueError(\"Sentences and labels should have the same number of elements.\")\n",
    "\n",
    "        self.sentences = sentences\n",
    "        self.labels = labels\n",
    "        self.tokenizer = tokenizer\n",
    "        self.max_len = max_len\n",
    "\n",
    "    def __getitem__(self, index: int):\n",
    "        inputs = self.tokenizer(self.sentences[index],\n",
    "                                truncation=True,\n",
    "                                pad_to_max_length=True,\n",
    "                                return_tensors=\"pt\",\n",
    "                                max_length=self.max_len)\n",
    "\n",
    "        return {\n",
    "            \"input_ids\": inputs[\"input_ids\"].squeeze(),\n",
    "            \"attention_mask\": inputs[\"attention_mask\"].squeeze(),\n",
    "            \"labels\": torch.tensor(self.labels[index], dtype=torch.long)\n",
    "        }\n",
    "\n",
    "    def __len__(self):\n",
    "        return len(self.sentences)"
   ]
  },
  {
   "cell_type": "code",
   "execution_count": 9,
   "metadata": {
    "collapsed": false,
    "execution": {
     "iopub.execute_input": "2022-05-18T10:41:42.162089Z",
     "iopub.status.busy": "2022-05-18T10:41:42.161663Z",
     "iopub.status.idle": "2022-05-18T10:41:42.180542Z",
     "shell.execute_reply": "2022-05-18T10:41:42.179907Z",
     "shell.execute_reply.started": "2022-05-18T10:41:42.162051Z"
    },
    "jupyter": {
     "outputs_hidden": false
    },
    "pycharm": {
     "name": "#%%\n"
    },
    "trusted": true
   },
   "outputs": [],
   "source": [
    "from tqdm.auto import tqdm\n",
    "import copy\n",
    "\n",
    "\n",
    "def train(model, \n",
    "          train_loader, \n",
    "          eval_loader,\n",
    "          device, \n",
    "          lr=5e-5,\n",
    "          num_epochs=5,\n",
    "          batch_size=8):\n",
    "        \n",
    "    num_training_steps = len(train_loader) * num_epochs\n",
    "    optimizer, lr_scheduler = setup_optimizer_and_scheduler(model,\n",
    "                                                         lr,\n",
    "                                                         0,\n",
    "                                                         num_training_steps)\n",
    "\n",
    "    progress_bar = tqdm(range(num_training_steps))\n",
    "    \n",
    "    best_f1 = 0\n",
    "    best_epoch = -1\n",
    "    best_params = copy.deepcopy(model.state_dict())\n",
    "    patience = 0\n",
    "    \n",
    "    for epoch in range(num_epochs):\n",
    "        model.train()\n",
    "        for batch in train_loader:\n",
    "            batch = {k: v.to(device) for k, v in batch.items()}\n",
    "\n",
    "            outputs = model(**batch)\n",
    "            loss = outputs.loss\n",
    "            loss.backward()\n",
    "\n",
    "            optimizer.step()\n",
    "            lr_scheduler.step()\n",
    "            optimizer.zero_grad()\n",
    "\n",
    "            progress_bar.update(1)\n",
    "            \n",
    "        metrics = evaluate(model, eval_loader, device)\n",
    "        print(f\"valid accuracy: {metrics['accuracy']}\\n\"\n",
    "              f\"valid precision: {metrics['precision']}\\n\"\n",
    "              f\"valid recall: {metrics['recall']}\\n\"\n",
    "              f\"valid f1: {metrics['f1']}\\n\")\n",
    "            \n",
    "        if metrics[\"f1\"] > best_f1:\n",
    "            best_f1 = metrics[\"f1\"]\n",
    "            best_epoch = epoch\n",
    "            best_params = copy.deepcopy(model.state_dict())\n",
    "            patience = 0\n",
    "        else:\n",
    "            patience += 1\n",
    "\n",
    "        print(f\"patience: {patience}\\n\")\n",
    "        if patience == 3:\n",
    "            break\n",
    "        \n",
    "    print(f\"best epoch: {best_epoch}\\n\"\n",
    "          f\"best f1: {best_f1}\\n\")\n",
    "\n",
    "    model.load_state_dict(best_params)\n",
    "    return model\n",
    "\n",
    "\n",
    "def setup_optimizer_and_scheduler(model, lr, num_warmup_steps, num_training_steps):\n",
    "    optimizer = AdamW(model.parameters(), lr=lr)\n",
    "    scheduler = lr_scheduler = get_scheduler(name=\"linear\", \n",
    "                                             optimizer=optimizer,\n",
    "                                             num_warmup_steps=num_warmup_steps,\n",
    "                                             num_training_steps=num_training_steps)\n",
    "    return optimizer, scheduler\n",
    "\n",
    "\n",
    "def evaluate(model, eval_loader, device):\n",
    "    model.eval()\n",
    "    labels_list = []\n",
    "    preds_list = []\n",
    "    with torch.no_grad():\n",
    "        for batch in eval_loader:\n",
    "            batch = {k: v.to(device) for k, v in batch.items()}\n",
    "\n",
    "            outputs = model(**batch)\n",
    "            _, preds = torch.max(outputs.logits, dim=1, keepdim=False)\n",
    "            labels_list.extend(batch[\"labels\"].cpu().numpy().tolist())\n",
    "            preds_list.extend(preds.cpu().numpy().tolist())\n",
    "\n",
    "    return compute_metrics(labels_list, preds_list)\n",
    "\n",
    "\n",
    "def compute_metrics(y_true, y_pred):\n",
    "    precision, recall, f1, _ = precision_recall_fscore_support(y_true, y_pred, average=\"binary\")\n",
    "    return {\n",
    "        \"accuracy\": accuracy_score(y_true, y_pred),\n",
    "        \"precision\": precision,\n",
    "        \"recall\": recall,\n",
    "        \"f1\": f1,\n",
    "        \"confusion_matrix\": confusion_matrix(y_true, y_pred)\n",
    "    }"
   ]
  },
  {
   "cell_type": "code",
   "execution_count": 10,
   "metadata": {
    "execution": {
     "iopub.execute_input": "2022-05-18T10:41:42.184373Z",
     "iopub.status.busy": "2022-05-18T10:41:42.184140Z",
     "iopub.status.idle": "2022-05-18T10:41:48.312854Z",
     "shell.execute_reply": "2022-05-18T10:41:48.312125Z",
     "shell.execute_reply.started": "2022-05-18T10:41:42.184338Z"
    },
    "pycharm": {
     "name": "#%%\n"
    },
    "trusted": true
   },
   "outputs": [],
   "source": [
    "tokenizer = AutoTokenizer.from_pretrained(\"roberta-base\")\n",
    "train_dataset = SarcasticSentenceDataset(sentences=train_df[\"text\"].tolist(),\n",
    "                                         labels=train_df[\"label\"].tolist(),\n",
    "                                         tokenizer=tokenizer)\n",
    "\n",
    "test_dataset = SarcasticSentenceDataset(sentences=test_df[\"text\"].tolist(),\n",
    "                                        labels=test_df[\"label\"].tolist(),\n",
    "                                        tokenizer=tokenizer)\n",
    "\n",
    "item = train_dataset[0]\n",
    "print(f\"sentence: {train_df['text'][0]}\\n\"\n",
    "      f\"ids: {item['input_ids']}\\n\"\n",
    "      f\"attention_mask: {item['attention_mask']}\\n\"\n",
    "      f\"label: {item['labels']}\")"
   ]
  },
  {
   "cell_type": "code",
   "execution_count": 11,
   "metadata": {
    "execution": {
     "iopub.execute_input": "2022-05-18T10:41:48.315430Z",
     "iopub.status.busy": "2022-05-18T10:41:48.313975Z",
     "iopub.status.idle": "2022-05-18T10:42:21.946349Z",
     "shell.execute_reply": "2022-05-18T10:42:21.945585Z",
     "shell.execute_reply.started": "2022-05-18T10:41:48.315399Z"
    },
    "pycharm": {
     "name": "#%%\n"
    },
    "trusted": true
   },
   "outputs": [],
   "source": [
    "model = AutoModelForSequenceClassification.from_pretrained(\"roberta-base\", num_labels=2).to(device)"
   ]
  },
  {
   "cell_type": "code",
   "execution_count": 12,
   "metadata": {
    "collapsed": false,
    "execution": {
     "iopub.execute_input": "2022-05-18T10:43:57.409824Z",
     "iopub.status.busy": "2022-05-18T10:43:57.409234Z",
     "iopub.status.idle": "2022-05-18T10:56:51.772465Z",
     "shell.execute_reply": "2022-05-18T10:56:51.771557Z",
     "shell.execute_reply.started": "2022-05-18T10:43:57.409788Z"
    },
    "jupyter": {
     "outputs_hidden": false
    },
    "pycharm": {
     "name": "#%%\n"
    },
    "trusted": true
   },
   "outputs": [],
   "source": [
    "model = train(model,\n",
    "              DataLoader(train_dataset, batch_size=8),\n",
    "              DataLoader(test_dataset, batch_size=8),\n",
    "              device,\n",
    "              num_epochs=20,\n",
    "              lr=5e-5)"
   ]
  },
  {
   "cell_type": "code",
   "execution_count": 13,
   "metadata": {
    "collapsed": false,
    "execution": {
     "iopub.execute_input": "2022-05-18T10:57:15.272139Z",
     "iopub.status.busy": "2022-05-18T10:57:15.271876Z",
     "iopub.status.idle": "2022-05-18T10:57:18.910340Z",
     "shell.execute_reply": "2022-05-18T10:57:18.909631Z",
     "shell.execute_reply.started": "2022-05-18T10:57:15.272110Z"
    },
    "jupyter": {
     "outputs_hidden": false
    },
    "pycharm": {
     "name": "#%%\n"
    },
    "trusted": true
   },
   "outputs": [],
   "source": [
    "metrics = evaluate(model, DataLoader(test_dataset, batch_size=8), device)\n",
    "print(f\"test accuracy: {metrics['accuracy']}\\n\"\n",
    "      f\"test precision: {metrics['precision']}\\n\"\n",
    "      f\"test recall: {metrics['recall']}\\n\"\n",
    "      f\"test f1: {metrics['f1']}\\n\")\n",
    "\n",
    "sns.heatmap(metrics[\"confusion_matrix\"], annot=True, cmap='Blues', fmt=\"d\")"
   ]
  },
  {
   "cell_type": "code",
   "execution_count": 14,
   "metadata": {
    "execution": {
     "iopub.execute_input": "2022-05-18T10:57:27.580768Z",
     "iopub.status.busy": "2022-05-18T10:57:27.580164Z",
     "iopub.status.idle": "2022-05-18T10:57:28.569508Z",
     "shell.execute_reply": "2022-05-18T10:57:28.568716Z",
     "shell.execute_reply.started": "2022-05-18T10:57:27.580731Z"
    },
    "pycharm": {
     "name": "#%%\n"
    },
    "trusted": true
   },
   "outputs": [],
   "source": [
    "torch.save(model.state_dict(), \"model.pth\")\n",
    "print(\"model params saved\")"
   ]
  }
 ],
 "metadata": {
  "kernelspec": {
   "display_name": "Python 3",
   "language": "python",
   "name": "python3"
  },
  "language_info": {
   "codemirror_mode": {
    "name": "ipython",
    "version": 3
   },
   "file_extension": ".py",
   "mimetype": "text/x-python",
   "name": "python",
   "nbconvert_exporter": "python",
   "pygments_lexer": "ipython3",
   "version": "3.7.12"
  }
 },
 "nbformat": 4,
 "nbformat_minor": 4
}
