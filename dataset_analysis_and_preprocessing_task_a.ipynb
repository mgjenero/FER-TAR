{
 "cells": [
  {
   "cell_type": "code",
   "execution_count": 1,
   "metadata": {
    "collapsed": true,
    "pycharm": {
     "name": "#%%\n"
    }
   },
   "outputs": [],
   "source": [
    "import numpy as np\n",
    "import pandas as pd\n",
    "import seaborn as sns\n",
    "from matplotlib import pyplot as plt\n",
    "import emoji\n",
    "from emosent import get_emoji_sentiment_rank"
   ]
  },
  {
   "cell_type": "code",
   "execution_count": 2,
   "outputs": [],
   "source": [
    "train_dataset_path = \"datasets/train_task_a_full.txt\"\n",
    "test_dataset_path = \"datasets/test_task_a_full.txt\""
   ],
   "metadata": {
    "collapsed": false,
    "pycharm": {
     "name": "#%%\n"
    }
   }
  },
  {
   "cell_type": "code",
   "execution_count": 3,
   "outputs": [
    {
     "data": {
      "text/plain": "   index  label                                               text\n0      1      1  Sweet United Nations video. Just in time for C...\n1      2      1  @mrdahl87 We are rumored to have talked to Erv...\n2      3      1  Hey there! Nice to see you Minnesota/ND Winter...\n3      4      0                3 episodes left I'm dying over here\n4      5      1  I can't breathe! was chosen as the most notabl...",
      "text/html": "<div>\n<style scoped>\n    .dataframe tbody tr th:only-of-type {\n        vertical-align: middle;\n    }\n\n    .dataframe tbody tr th {\n        vertical-align: top;\n    }\n\n    .dataframe thead th {\n        text-align: right;\n    }\n</style>\n<table border=\"1\" class=\"dataframe\">\n  <thead>\n    <tr style=\"text-align: right;\">\n      <th></th>\n      <th>index</th>\n      <th>label</th>\n      <th>text</th>\n    </tr>\n  </thead>\n  <tbody>\n    <tr>\n      <th>0</th>\n      <td>1</td>\n      <td>1</td>\n      <td>Sweet United Nations video. Just in time for C...</td>\n    </tr>\n    <tr>\n      <th>1</th>\n      <td>2</td>\n      <td>1</td>\n      <td>@mrdahl87 We are rumored to have talked to Erv...</td>\n    </tr>\n    <tr>\n      <th>2</th>\n      <td>3</td>\n      <td>1</td>\n      <td>Hey there! Nice to see you Minnesota/ND Winter...</td>\n    </tr>\n    <tr>\n      <th>3</th>\n      <td>4</td>\n      <td>0</td>\n      <td>3 episodes left I'm dying over here</td>\n    </tr>\n    <tr>\n      <th>4</th>\n      <td>5</td>\n      <td>1</td>\n      <td>I can't breathe! was chosen as the most notabl...</td>\n    </tr>\n  </tbody>\n</table>\n</div>"
     },
     "execution_count": 3,
     "metadata": {},
     "output_type": "execute_result"
    }
   ],
   "source": [
    "train_df = pd.read_csv(train_dataset_path, sep=\"\\t\")\n",
    "train_df.rename(columns={\"Tweet index\": \"index\", \"Label\": \"label\", \"Tweet text\": \"text\"},\n",
    "                inplace=True)\n",
    "\n",
    "test_df = pd.read_csv(test_dataset_path, sep=\"\\t\")\n",
    "test_df.rename(columns={\"Tweet index\": \"index\", \"Label\": \"label\", \"Tweet text\": \"text\"},\n",
    "               inplace=True)\n",
    "train_df.head()"
   ],
   "metadata": {
    "collapsed": false,
    "pycharm": {
     "name": "#%%\n"
    }
   }
  },
  {
   "cell_type": "code",
   "execution_count": 4,
   "outputs": [
    {
     "name": "stderr",
     "output_type": "stream",
     "text": [
      "C:\\Users\\andri\\Projects\\FER-TAR\\venv\\lib\\site-packages\\seaborn\\_decorators.py:36: FutureWarning: Pass the following variables as keyword args: x, y. From version 0.12, the only valid positional argument will be `data`, and passing other arguments without an explicit keyword will result in an error or misinterpretation.\n",
      "  warnings.warn(\n"
     ]
    },
    {
     "data": {
      "text/plain": "<AxesSubplot:ylabel='label'>"
     },
     "execution_count": 4,
     "metadata": {},
     "output_type": "execute_result"
    },
    {
     "data": {
      "text/plain": "<Figure size 432x288 with 1 Axes>",
      "image/png": "[encoded data removed]"
     },
     "metadata": {},
     "output_type": "display_data"
    }
   ],
   "source": [
    "value_counts = train_df[\"label\"].value_counts()\n",
    "sns.barplot(value_counts.index, value_counts)"
   ],
   "metadata": {
    "collapsed": false,
    "pycharm": {
     "name": "#%%\n"
    }
   }
  },
  {
   "cell_type": "code",
   "execution_count": 5,
   "outputs": [
    {
     "name": "stdout",
     "output_type": "stream",
     "text": [
      "mean word count in non ironic tweets: 13.916492693110648\n",
      "mean word count in ironic tweets: 13.677538137822198\n"
     ]
    }
   ],
   "source": [
    "train_df[\"word_count\"] = train_df[\"text\"].apply(lambda x: len(x.split()))\n",
    "print(\"mean word count in non ironic tweets:\",\n",
    "      train_df[train_df[\"label\"] == 0][\"word_count\"].mean())\n",
    "print(\"mean word count in ironic tweets:\",\n",
    "      train_df[train_df[\"label\"] == 1][\"word_count\"].mean())"
   ],
   "metadata": {
    "collapsed": false,
    "pycharm": {
     "name": "#%%\n"
    }
   }
  },
  {
   "cell_type": "code",
   "execution_count": 6,
   "outputs": [
    {
     "data": {
      "text/plain": "<Figure size 720x288 with 2 Axes>",
      "image/png": "[encoded data removed]"
     },
     "metadata": {},
     "output_type": "display_data"
    }
   ],
   "source": [
    "fig, (ax1, ax2) = plt.subplots(1, 2, figsize=(10, 4))\n",
    "fig.suptitle(\"Words per tweet\")\n",
    "\n",
    "train_words = train_df[train_df[\"label\"] == 0]\n",
    "train_words = train_words[train_words[\"word_count\"] < 50][\"word_count\"]\n",
    "ax1.hist(train_words, bins=10)\n",
    "ax1.set_title(\"Non-ironic tweets\")\n",
    "\n",
    "train_words = train_df[train_df[\"label\"] == 1]\n",
    "train_words = train_words[train_words[\"word_count\"] < 50][\"word_count\"]\n",
    "ax2.hist(train_words, bins=10)\n",
    "ax2.set_title(\"Ironic tweets\")\n",
    "\n",
    "plt.show()"
   ],
   "metadata": {
    "collapsed": false,
    "pycharm": {
     "name": "#%%\n"
    }
   }
  },
  {
   "cell_type": "code",
   "execution_count": 7,
   "outputs": [],
   "source": [
    "def extract_emojis(text):\n",
    "    return \"\".join(c for c in text if c in emoji.UNICODE_EMOJI['en'])\n",
    "\n",
    "\n",
    "def has_emojis(text):\n",
    "    return len(extract_emojis(text)) == 0\n",
    "\n",
    "\n",
    "def get_emoji_sentiment_score(emoji):\n",
    "    try:\n",
    "        return get_emoji_sentiment_rank(emoji)[\"sentiment_score\"]\n",
    "    except KeyError:\n",
    "        return None\n",
    "\n",
    "\n",
    "def get_mean_emoji_sentiment_score(emojis):\n",
    "    if len(emojis) == 0:\n",
    "        return np.nan\n",
    "\n",
    "    scores = [get_emoji_sentiment_score(e) for e in emojis]\n",
    "    scores = [s for s in scores if s is not None]\n",
    "    return np.mean(scores)"
   ],
   "metadata": {
    "collapsed": false,
    "pycharm": {
     "name": "#%%\n"
    }
   }
  },
  {
   "cell_type": "code",
   "execution_count": 8,
   "outputs": [],
   "source": [
    "train_df[\"emojis\"] = train_df[\"text\"].apply(extract_emojis)\n",
    "train_df[\"emoji_count\"] = train_df[\"emojis\"].apply(lambda x: len(x))\n",
    "train_df[\"emoji_sentiment_scores\"] = train_df[\"emojis\"].apply(get_mean_emoji_sentiment_score)\n",
    "\n",
    "test_df[\"emojis\"] = test_df[\"text\"].apply(extract_emojis)\n",
    "test_df[\"emoji_count\"] = test_df[\"emojis\"].apply(lambda x: len(x))\n",
    "test_df[\"emoji_sentiment_scores\"] = test_df[\"emojis\"].apply(get_mean_emoji_sentiment_score)"
   ],
   "metadata": {
    "collapsed": false,
    "pycharm": {
     "name": "#%%\n"
    }
   }
  },
  {
   "cell_type": "code",
   "execution_count": 9,
   "outputs": [
    {
     "data": {
      "text/plain": "<Figure size 720x288 with 2 Axes>",
      "image/png": "[encoded data removed]"
     },
     "metadata": {},
     "output_type": "display_data"
    }
   ],
   "source": [
    "fig, (ax1, ax2) = plt.subplots(1, 2, figsize=(10, 4))\n",
    "fig.suptitle(\"Emojis per tweet type\")\n",
    "\n",
    "nonironic_emoji_count = train_df[train_df[\"label\"] == 0][\"emoji_count\"]\n",
    "ax1.hist(nonironic_emoji_count[nonironic_emoji_count > 0])\n",
    "ax1.set_title(\"Non-ironic tweets\")\n",
    "\n",
    "ironic_emoji_count = train_df[train_df[\"label\"] == 1][\"emoji_count\"]\n",
    "ax2.hist(ironic_emoji_count[ironic_emoji_count > 0])\n",
    "ax2.set_title(\"Ironic tweets\")\n",
    "\n",
    "plt.show()"
   ],
   "metadata": {
    "collapsed": false,
    "pycharm": {
     "name": "#%%\n"
    }
   }
  },
  {
   "cell_type": "code",
   "execution_count": 10,
   "outputs": [
    {
     "name": "stdout",
     "output_type": "stream",
     "text": [
      "mean emoji count in non ironic tweets: 0.23799582463465555\n",
      "mean emoji count in ironic tweets: 0.1704366123093109\n"
     ]
    }
   ],
   "source": [
    "print(\"mean emoji count in non ironic tweets:\",\n",
    "      nonironic_emoji_count.mean())\n",
    "print(\"mean emoji count in ironic tweets:\",\n",
    "      ironic_emoji_count.mean())"
   ],
   "metadata": {
    "collapsed": false,
    "pycharm": {
     "name": "#%%\n"
    }
   }
  },
  {
   "cell_type": "code",
   "execution_count": 12,
   "outputs": [
    {
     "data": {
      "text/plain": "<Figure size 720x288 with 2 Axes>",
      "image/png": "[encoded data removed]"
     },
     "metadata": {},
     "output_type": "display_data"
    }
   ],
   "source": [
    "fig, (ax1, ax2) = plt.subplots(1, 2, figsize=(10, 4))\n",
    "fig.suptitle(\"Mean emoji sentiment scores per tweet type\")\n",
    "\n",
    "nonironic_emoji_sentiment_scores = train_df[train_df[\"label\"] == 0][\"emoji_sentiment_scores\"]\n",
    "ax1.hist(nonironic_emoji_sentiment_scores[nonironic_emoji_sentiment_scores.notnull()], bins=10)\n",
    "ax1.set_title(\"Non-ironic tweets\")\n",
    "\n",
    "ironic_emoji_sentiment_scores = train_df[train_df[\"label\"] == 1][\"emoji_sentiment_scores\"]\n",
    "ax2.hist(ironic_emoji_sentiment_scores[ironic_emoji_sentiment_scores.notnull()], bins=10)\n",
    "ax2.set_title(\"Ironic tweets\")\n",
    "\n",
    "plt.show()"
   ],
   "metadata": {
    "collapsed": false,
    "pycharm": {
     "name": "#%%\n"
    }
   }
  },
  {
   "cell_type": "code",
   "execution_count": 13,
   "outputs": [
    {
     "name": "stdout",
     "output_type": "stream",
     "text": [
      "mean emoji sentiment score in non ironic tweets: 0.32410815295815293\n",
      "mean emoji sentiment score in ironic tweets: 0.13938866928309787\n"
     ]
    }
   ],
   "source": [
    "print(\"mean emoji sentiment score in non ironic tweets:\",\n",
    "     nonironic_emoji_sentiment_scores[nonironic_emoji_sentiment_scores.notnull()].mean())\n",
    "print(\"mean emoji sentiment score in ironic tweets:\",\n",
    "      ironic_emoji_sentiment_scores[ironic_emoji_sentiment_scores.notnull()].mean())"
   ],
   "metadata": {
    "collapsed": false,
    "pycharm": {
     "name": "#%%\n"
    }
   }
  },
  {
   "cell_type": "code",
   "execution_count": 14,
   "outputs": [],
   "source": [
    "def remove_emojis(text):\n",
    "    return \"\".join(c for c in text if c not in emoji.UNICODE_EMOJI['en'])"
   ],
   "metadata": {
    "collapsed": false,
    "pycharm": {
     "name": "#%%\n"
    }
   }
  },
  {
   "cell_type": "code",
   "execution_count": 83,
   "outputs": [],
   "source": [
    "train_df_with_emojis_only = train_df[train_df[\"emoji_count\"] > 0]\n",
    "test_df_with_emojis_only = test_df[test_df[\"emoji_count\"] > 0]"
   ],
   "metadata": {
    "collapsed": false,
    "pycharm": {
     "name": "#%%\n"
    }
   }
  },
  {
   "cell_type": "code",
   "execution_count": 84,
   "outputs": [],
   "source": [
    "train_df_with_emojis_only_removed = train_df_with_emojis_only[[\"index\", \"label\", \"text\"]].copy()\n",
    "train_df_with_emojis_only_removed[\"text\"] = train_df_with_emojis_only_removed[\"text\"].apply(remove_emojis)\n",
    "\n",
    "test_df_with_emojis_only_removed = test_df_with_emojis_only[[\"index\", \"label\", \"text\"]].copy()\n",
    "test_df_with_emojis_only_removed[\"text\"] = test_df_with_emojis_only_removed[\"text\"].apply(remove_emojis)"
   ],
   "metadata": {
    "collapsed": false,
    "pycharm": {
     "name": "#%%\n"
    }
   }
  },
  {
   "cell_type": "code",
   "execution_count": 85,
   "outputs": [],
   "source": [
    "train_df.to_csv(\"datasets/train_task_a_full_analyzed.txt\", sep=\"\\t\", index=False)\n",
    "test_df.to_csv(\"datasets/test_task_a_full_analyzed.txt\", sep=\"\\t\", index=False)\n",
    "\n",
    "train_df_with_emojis_only.to_csv(\"datasets/train_task_a_only_with_emojis_analyzed.txt\", sep=\"\\t\", index=False)\n",
    "test_df_with_emojis_only.to_csv(\"datasets/test_task_a_only_with_emojis_analyzed.txt\", sep=\"\\t\", index=False)\n",
    "\n",
    "train_df_with_emojis_only_removed.to_csv(\"datasets/train_task_a_only_with_emojis_removed.txt\", sep=\"\\t\", index=False)\n",
    "test_df_with_emojis_only_removed.to_csv(\"datasets/test_task_a_only_with_emojis_removed.txt\", sep=\"\\t\", index=False)"
   ],
   "metadata": {
    "collapsed": false,
    "pycharm": {
     "name": "#%%\n"
    }
   }
  }
 ],
 "metadata": {
  "kernelspec": {
   "display_name": "Python 3",
   "language": "python",
   "name": "python3"
  },
  "language_info": {
   "codemirror_mode": {
    "name": "ipython",
    "version": 2
   },
   "file_extension": ".py",
   "mimetype": "text/x-python",
   "name": "python",
   "nbconvert_exporter": "python",
   "pygments_lexer": "ipython2",
   "version": "2.7.6"
  }
 },
 "nbformat": 4,
 "nbformat_minor": 0
}