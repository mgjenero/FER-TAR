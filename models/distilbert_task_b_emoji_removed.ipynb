{
  "metadata": {
    "kernelspec": {
      "language": "python",
      "display_name": "Python 3",
      "name": "python3"
    },
    "language_info": {
      "name": "python",
      "version": "3.7.12",
      "mimetype": "text/x-python",
      "codemirror_mode": {
        "name": "ipython",
        "version": 3
      },
      "pygments_lexer": "ipython3",
      "nbconvert_exporter": "python",
      "file_extension": ".py"
    },
    "colab": {
      "name": "bertweet_task_b.ipynb",
      "provenance": []
    },
    "widgets": {
      "application/vnd.jupyter.widget-state+json": {
        "09fd21f674f943baaccbb0baf5606180": {
          "model_module": "@jupyter-widgets/controls",
          "model_name": "HBoxModel",
          "model_module_version": "1.5.0",
          "state": {
            "_dom_classes": [],
            "_model_module": "@jupyter-widgets/controls",
            "_model_module_version": "1.5.0",
            "_model_name": "HBoxModel",
            "_view_count": null,
            "_view_module": "@jupyter-widgets/controls",
            "_view_module_version": "1.5.0",
            "_view_name": "HBoxView",
            "box_style": "",
            "children": [
              "IPY_MODEL_d436367c0ff34aa2ab8e0acad0d0cf51",
              "IPY_MODEL_6071eb8c5ecd42388dbf45d802755a2b",
              "IPY_MODEL_eba736532d2140abb72a110252efead4"
            ],
            "layout": "IPY_MODEL_d24a7eeb94ba4b60b30dbe48de13e20c"
          }
        },
        "d436367c0ff34aa2ab8e0acad0d0cf51": {
          "model_module": "@jupyter-widgets/controls",
          "model_name": "HTMLModel",
          "model_module_version": "1.5.0",
          "state": {
            "_dom_classes": [],
            "_model_module": "@jupyter-widgets/controls",
            "_model_module_version": "1.5.0",
            "_model_name": "HTMLModel",
            "_view_count": null,
            "_view_module": "@jupyter-widgets/controls",
            "_view_module_version": "1.5.0",
            "_view_name": "HTMLView",
            "description": "",
            "description_tooltip": null,
            "layout": "IPY_MODEL_b8739cbbdbd248608be4160043c4933a",
            "placeholder": "​",
            "style": "IPY_MODEL_31af12ebcd764726abe380c3e59487f2",
            "value": "100%"
          }
        },
        "6071eb8c5ecd42388dbf45d802755a2b": {
          "model_module": "@jupyter-widgets/controls",
          "model_name": "FloatProgressModel",
          "model_module_version": "1.5.0",
          "state": {
            "_dom_classes": [],
            "_model_module": "@jupyter-widgets/controls",
            "_model_module_version": "1.5.0",
            "_model_name": "FloatProgressModel",
            "_view_count": null,
            "_view_module": "@jupyter-widgets/controls",
            "_view_module_version": "1.5.0",
            "_view_name": "ProgressView",
            "bar_style": "",
            "description": "",
            "description_tooltip": null,
            "layout": "IPY_MODEL_7b46c37a50c34a76bda1ad2b3867b852",
            "max": 410,
            "min": 0,
            "orientation": "horizontal",
            "style": "IPY_MODEL_bbdc493e3e7b4cd49c5eaee063ee0f35",
            "value": 410
          }
        },
        "eba736532d2140abb72a110252efead4": {
          "model_module": "@jupyter-widgets/controls",
          "model_name": "HTMLModel",
          "model_module_version": "1.5.0",
          "state": {
            "_dom_classes": [],
            "_model_module": "@jupyter-widgets/controls",
            "_model_module_version": "1.5.0",
            "_model_name": "HTMLModel",
            "_view_count": null,
            "_view_module": "@jupyter-widgets/controls",
            "_view_module_version": "1.5.0",
            "_view_name": "HTMLView",
            "description": "",
            "description_tooltip": null,
            "layout": "IPY_MODEL_e3da9ab966484aecb4441c4075cfc0b5",
            "placeholder": "​",
            "style": "IPY_MODEL_3d7bd7a6da5048e8a90153658341542a",
            "value": " 410/410 [38:52&lt;00:00,  4.60s/it]"
          }
        },
        "d24a7eeb94ba4b60b30dbe48de13e20c": {
          "model_module": "@jupyter-widgets/base",
          "model_name": "LayoutModel",
          "model_module_version": "1.2.0",
          "state": {
            "_model_module": "@jupyter-widgets/base",
            "_model_module_version": "1.2.0",
            "_model_name": "LayoutModel",
            "_view_count": null,
            "_view_module": "@jupyter-widgets/base",
            "_view_module_version": "1.2.0",
            "_view_name": "LayoutView",
            "align_content": null,
            "align_items": null,
            "align_self": null,
            "border": null,
            "bottom": null,
            "display": null,
            "flex": null,
            "flex_flow": null,
            "grid_area": null,
            "grid_auto_columns": null,
            "grid_auto_flow": null,
            "grid_auto_rows": null,
            "grid_column": null,
            "grid_gap": null,
            "grid_row": null,
            "grid_template_areas": null,
            "grid_template_columns": null,
            "grid_template_rows": null,
            "height": null,
            "justify_content": null,
            "justify_items": null,
            "left": null,
            "margin": null,
            "max_height": null,
            "max_width": null,
            "min_height": null,
            "min_width": null,
            "object_fit": null,
            "object_position": null,
            "order": null,
            "overflow": null,
            "overflow_x": null,
            "overflow_y": null,
            "padding": null,
            "right": null,
            "top": null,
            "visibility": null,
            "width": null
          }
        },
        "b8739cbbdbd248608be4160043c4933a": {
          "model_module": "@jupyter-widgets/base",
          "model_name": "LayoutModel",
          "model_module_version": "1.2.0",
          "state": {
            "_model_module": "@jupyter-widgets/base",
            "_model_module_version": "1.2.0",
            "_model_name": "LayoutModel",
            "_view_count": null,
            "_view_module": "@jupyter-widgets/base",
            "_view_module_version": "1.2.0",
            "_view_name": "LayoutView",
            "align_content": null,
            "align_items": null,
            "align_self": null,
            "border": null,
            "bottom": null,
            "display": null,
            "flex": null,
            "flex_flow": null,
            "grid_area": null,
            "grid_auto_columns": null,
            "grid_auto_flow": null,
            "grid_auto_rows": null,
            "grid_column": null,
            "grid_gap": null,
            "grid_row": null,
            "grid_template_areas": null,
            "grid_template_columns": null,
            "grid_template_rows": null,
            "height": null,
            "justify_content": null,
            "justify_items": null,
            "left": null,
            "margin": null,
            "max_height": null,
            "max_width": null,
            "min_height": null,
            "min_width": null,
            "object_fit": null,
            "object_position": null,
            "order": null,
            "overflow": null,
            "overflow_x": null,
            "overflow_y": null,
            "padding": null,
            "right": null,
            "top": null,
            "visibility": null,
            "width": null
          }
        },
        "31af12ebcd764726abe380c3e59487f2": {
          "model_module": "@jupyter-widgets/controls",
          "model_name": "DescriptionStyleModel",
          "model_module_version": "1.5.0",
          "state": {
            "_model_module": "@jupyter-widgets/controls",
            "_model_module_version": "1.5.0",
            "_model_name": "DescriptionStyleModel",
            "_view_count": null,
            "_view_module": "@jupyter-widgets/base",
            "_view_module_version": "1.2.0",
            "_view_name": "StyleView",
            "description_width": ""
          }
        },
        "7b46c37a50c34a76bda1ad2b3867b852": {
          "model_module": "@jupyter-widgets/base",
          "model_name": "LayoutModel",
          "model_module_version": "1.2.0",
          "state": {
            "_model_module": "@jupyter-widgets/base",
            "_model_module_version": "1.2.0",
            "_model_name": "LayoutModel",
            "_view_count": null,
            "_view_module": "@jupyter-widgets/base",
            "_view_module_version": "1.2.0",
            "_view_name": "LayoutView",
            "align_content": null,
            "align_items": null,
            "align_self": null,
            "border": null,
            "bottom": null,
            "display": null,
            "flex": null,
            "flex_flow": null,
            "grid_area": null,
            "grid_auto_columns": null,
            "grid_auto_flow": null,
            "grid_auto_rows": null,
            "grid_column": null,
            "grid_gap": null,
            "grid_row": null,
            "grid_template_areas": null,
            "grid_template_columns": null,
            "grid_template_rows": null,
            "height": null,
            "justify_content": null,
            "justify_items": null,
            "left": null,
            "margin": null,
            "max_height": null,
            "max_width": null,
            "min_height": null,
            "min_width": null,
            "object_fit": null,
            "object_position": null,
            "order": null,
            "overflow": null,
            "overflow_x": null,
            "overflow_y": null,
            "padding": null,
            "right": null,
            "top": null,
            "visibility": null,
            "width": null
          }
        },
        "bbdc493e3e7b4cd49c5eaee063ee0f35": {
          "model_module": "@jupyter-widgets/controls",
          "model_name": "ProgressStyleModel",
          "model_module_version": "1.5.0",
          "state": {
            "_model_module": "@jupyter-widgets/controls",
            "_model_module_version": "1.5.0",
            "_model_name": "ProgressStyleModel",
            "_view_count": null,
            "_view_module": "@jupyter-widgets/base",
            "_view_module_version": "1.2.0",
            "_view_name": "StyleView",
            "bar_color": null,
            "description_width": ""
          }
        },
        "e3da9ab966484aecb4441c4075cfc0b5": {
          "model_module": "@jupyter-widgets/base",
          "model_name": "LayoutModel",
          "model_module_version": "1.2.0",
          "state": {
            "_model_module": "@jupyter-widgets/base",
            "_model_module_version": "1.2.0",
            "_model_name": "LayoutModel",
            "_view_count": null,
            "_view_module": "@jupyter-widgets/base",
            "_view_module_version": "1.2.0",
            "_view_name": "LayoutView",
            "align_content": null,
            "align_items": null,
            "align_self": null,
            "border": null,
            "bottom": null,
            "display": null,
            "flex": null,
            "flex_flow": null,
            "grid_area": null,
            "grid_auto_columns": null,
            "grid_auto_flow": null,
            "grid_auto_rows": null,
            "grid_column": null,
            "grid_gap": null,
            "grid_row": null,
            "grid_template_areas": null,
            "grid_template_columns": null,
            "grid_template_rows": null,
            "height": null,
            "justify_content": null,
            "justify_items": null,
            "left": null,
            "margin": null,
            "max_height": null,
            "max_width": null,
            "min_height": null,
            "min_width": null,
            "object_fit": null,
            "object_position": null,
            "order": null,
            "overflow": null,
            "overflow_x": null,
            "overflow_y": null,
            "padding": null,
            "right": null,
            "top": null,
            "visibility": null,
            "width": null
          }
        },
        "3d7bd7a6da5048e8a90153658341542a": {
          "model_module": "@jupyter-widgets/controls",
          "model_name": "DescriptionStyleModel",
          "model_module_version": "1.5.0",
          "state": {
            "_model_module": "@jupyter-widgets/controls",
            "_model_module_version": "1.5.0",
            "_model_name": "DescriptionStyleModel",
            "_view_count": null,
            "_view_module": "@jupyter-widgets/base",
            "_view_module_version": "1.2.0",
            "_view_name": "StyleView",
            "description_width": ""
          }
        }
      }
    }
  },
  "nbformat_minor": 0,
  "nbformat": 4,
  "cells": [
    {
      "cell_type": "code",
      "source": [
        "!pip install transformers\n",
        "!pip install transformers_interpret\n",
        "import numpy as np\n",
        "import torch\n",
        "from torch.utils.data import Dataset, DataLoader\n",
        "import pandas as pd\n",
        "from transformers import AutoTokenizer, AdamW, get_scheduler, AutoModelForSequenceClassification\n",
        "import seaborn as sns\n",
        "from sklearn.metrics import accuracy_score, confusion_matrix, precision_recall_fscore_support\n",
        "from sklearn.model_selection import train_test_split\n",
        "import warnings\n",
        "\n",
        "warnings.filterwarnings('ignore')"
      ],
      "metadata": {
        "id": "DzP5MeHJCAII",
        "pycharm": {
          "name": "#%%\n"
        },
        "execution": {
          "iopub.status.busy": "2022-05-21T18:49:49.171997Z",
          "iopub.execute_input": "2022-05-21T18:49:49.172301Z",
          "iopub.status.idle": "2022-05-21T18:49:49.178051Z",
          "shell.execute_reply.started": "2022-05-21T18:49:49.172273Z",
          "shell.execute_reply": "2022-05-21T18:49:49.177322Z"
        },
        "trusted": true,
        "colab": {
          "base_uri": "https://localhost:8080/"
        },
        "outputId": "a68e52db-267d-480a-ca5e-a09bc9198187"
      },
      "execution_count": 18,
      "outputs": [
        {
          "output_type": "stream",
          "name": "stdout",
          "text": [
            "Looking in indexes: https://pypi.org/simple, https://us-python.pkg.dev/colab-wheels/public/simple/\n",
            "Requirement already satisfied: transformers in /usr/local/lib/python3.7/dist-packages (4.19.2)\n",
            "Requirement already satisfied: importlib-metadata in /usr/local/lib/python3.7/dist-packages (from transformers) (4.11.3)\n",
            "Requirement already satisfied: huggingface-hub<1.0,>=0.1.0 in /usr/local/lib/python3.7/dist-packages (from transformers) (0.6.0)\n",
            "Requirement already satisfied: tokenizers!=0.11.3,<0.13,>=0.11.1 in /usr/local/lib/python3.7/dist-packages (from transformers) (0.12.1)\n",
            "Requirement already satisfied: numpy>=1.17 in /usr/local/lib/python3.7/dist-packages (from transformers) (1.21.6)\n",
            "Requirement already satisfied: packaging>=20.0 in /usr/local/lib/python3.7/dist-packages (from transformers) (21.3)\n",
            "Requirement already satisfied: filelock in /usr/local/lib/python3.7/dist-packages (from transformers) (3.7.0)\n",
            "Requirement already satisfied: regex!=2019.12.17 in /usr/local/lib/python3.7/dist-packages (from transformers) (2019.12.20)\n",
            "Requirement already satisfied: tqdm>=4.27 in /usr/local/lib/python3.7/dist-packages (from transformers) (4.64.0)\n",
            "Requirement already satisfied: pyyaml>=5.1 in /usr/local/lib/python3.7/dist-packages (from transformers) (6.0)\n",
            "Requirement already satisfied: requests in /usr/local/lib/python3.7/dist-packages (from transformers) (2.23.0)\n",
            "Requirement already satisfied: typing-extensions>=3.7.4.3 in /usr/local/lib/python3.7/dist-packages (from huggingface-hub<1.0,>=0.1.0->transformers) (4.2.0)\n",
            "Requirement already satisfied: pyparsing!=3.0.5,>=2.0.2 in /usr/local/lib/python3.7/dist-packages (from packaging>=20.0->transformers) (3.0.9)\n",
            "Requirement already satisfied: zipp>=0.5 in /usr/local/lib/python3.7/dist-packages (from importlib-metadata->transformers) (3.8.0)\n",
            "Requirement already satisfied: urllib3!=1.25.0,!=1.25.1,<1.26,>=1.21.1 in /usr/local/lib/python3.7/dist-packages (from requests->transformers) (1.24.3)\n",
            "Requirement already satisfied: certifi>=2017.4.17 in /usr/local/lib/python3.7/dist-packages (from requests->transformers) (2022.5.18.1)\n",
            "Requirement already satisfied: chardet<4,>=3.0.2 in /usr/local/lib/python3.7/dist-packages (from requests->transformers) (3.0.4)\n",
            "Requirement already satisfied: idna<3,>=2.5 in /usr/local/lib/python3.7/dist-packages (from requests->transformers) (2.10)\n",
            "Looking in indexes: https://pypi.org/simple, https://us-python.pkg.dev/colab-wheels/public/simple/\n",
            "Requirement already satisfied: transformers_interpret in /usr/local/lib/python3.7/dist-packages (0.6.0)\n",
            "Requirement already satisfied: transformers>=3.0.0 in /usr/local/lib/python3.7/dist-packages (from transformers_interpret) (4.19.2)\n",
            "Requirement already satisfied: captum>=0.3.1 in /usr/local/lib/python3.7/dist-packages (from transformers_interpret) (0.5.0)\n",
            "Requirement already satisfied: torch>=1.6 in /usr/local/lib/python3.7/dist-packages (from captum>=0.3.1->transformers_interpret) (1.11.0+cu113)\n",
            "Requirement already satisfied: numpy in /usr/local/lib/python3.7/dist-packages (from captum>=0.3.1->transformers_interpret) (1.21.6)\n",
            "Requirement already satisfied: matplotlib in /usr/local/lib/python3.7/dist-packages (from captum>=0.3.1->transformers_interpret) (3.2.2)\n",
            "Requirement already satisfied: typing-extensions in /usr/local/lib/python3.7/dist-packages (from torch>=1.6->captum>=0.3.1->transformers_interpret) (4.2.0)\n",
            "Requirement already satisfied: importlib-metadata in /usr/local/lib/python3.7/dist-packages (from transformers>=3.0.0->transformers_interpret) (4.11.3)\n",
            "Requirement already satisfied: tqdm>=4.27 in /usr/local/lib/python3.7/dist-packages (from transformers>=3.0.0->transformers_interpret) (4.64.0)\n",
            "Requirement already satisfied: requests in /usr/local/lib/python3.7/dist-packages (from transformers>=3.0.0->transformers_interpret) (2.23.0)\n",
            "Requirement already satisfied: regex!=2019.12.17 in /usr/local/lib/python3.7/dist-packages (from transformers>=3.0.0->transformers_interpret) (2019.12.20)\n",
            "Requirement already satisfied: packaging>=20.0 in /usr/local/lib/python3.7/dist-packages (from transformers>=3.0.0->transformers_interpret) (21.3)\n",
            "Requirement already satisfied: filelock in /usr/local/lib/python3.7/dist-packages (from transformers>=3.0.0->transformers_interpret) (3.7.0)\n",
            "Requirement already satisfied: huggingface-hub<1.0,>=0.1.0 in /usr/local/lib/python3.7/dist-packages (from transformers>=3.0.0->transformers_interpret) (0.6.0)\n",
            "Requirement already satisfied: tokenizers!=0.11.3,<0.13,>=0.11.1 in /usr/local/lib/python3.7/dist-packages (from transformers>=3.0.0->transformers_interpret) (0.12.1)\n",
            "Requirement already satisfied: pyyaml>=5.1 in /usr/local/lib/python3.7/dist-packages (from transformers>=3.0.0->transformers_interpret) (6.0)\n",
            "Requirement already satisfied: pyparsing!=3.0.5,>=2.0.2 in /usr/local/lib/python3.7/dist-packages (from packaging>=20.0->transformers>=3.0.0->transformers_interpret) (3.0.9)\n",
            "Requirement already satisfied: zipp>=0.5 in /usr/local/lib/python3.7/dist-packages (from importlib-metadata->transformers>=3.0.0->transformers_interpret) (3.8.0)\n",
            "Requirement already satisfied: cycler>=0.10 in /usr/local/lib/python3.7/dist-packages (from matplotlib->captum>=0.3.1->transformers_interpret) (0.11.0)\n",
            "Requirement already satisfied: kiwisolver>=1.0.1 in /usr/local/lib/python3.7/dist-packages (from matplotlib->captum>=0.3.1->transformers_interpret) (1.4.2)\n",
            "Requirement already satisfied: python-dateutil>=2.1 in /usr/local/lib/python3.7/dist-packages (from matplotlib->captum>=0.3.1->transformers_interpret) (2.8.2)\n",
            "Requirement already satisfied: six>=1.5 in /usr/local/lib/python3.7/dist-packages (from python-dateutil>=2.1->matplotlib->captum>=0.3.1->transformers_interpret) (1.15.0)\n",
            "Requirement already satisfied: chardet<4,>=3.0.2 in /usr/local/lib/python3.7/dist-packages (from requests->transformers>=3.0.0->transformers_interpret) (3.0.4)\n",
            "Requirement already satisfied: urllib3!=1.25.0,!=1.25.1,<1.26,>=1.21.1 in /usr/local/lib/python3.7/dist-packages (from requests->transformers>=3.0.0->transformers_interpret) (1.24.3)\n",
            "Requirement already satisfied: certifi>=2017.4.17 in /usr/local/lib/python3.7/dist-packages (from requests->transformers>=3.0.0->transformers_interpret) (2022.5.18.1)\n",
            "Requirement already satisfied: idna<3,>=2.5 in /usr/local/lib/python3.7/dist-packages (from requests->transformers>=3.0.0->transformers_interpret) (2.10)\n"
          ]
        }
      ]
    },
    {
      "cell_type": "code",
      "source": [
        "np.random.seed(42)\n",
        "torch.manual_seed(42)\n",
        "torch.cuda.manual_seed(42)\n",
        "\n",
        "if torch.cuda.is_available():\n",
        "    device = torch.device('cuda:0')\n",
        "    torch.backends.cudnn.deterministic = True\n",
        "    torch.backends.cudnn.benchmark = False\n",
        "else:\n",
        "    device = torch.device('cpu')\n",
        "\n",
        "print(device)"
      ],
      "metadata": {
        "id": "qRntisqgB-jD",
        "outputId": "db9f94e3-945e-4eb2-a117-5e2de1cfce2a",
        "pycharm": {
          "name": "#%%\n"
        },
        "execution": {
          "iopub.status.busy": "2022-05-21T18:49:49.179512Z",
          "iopub.execute_input": "2022-05-21T18:49:49.180049Z",
          "iopub.status.idle": "2022-05-21T18:49:49.191002Z",
          "shell.execute_reply.started": "2022-05-21T18:49:49.180011Z",
          "shell.execute_reply": "2022-05-21T18:49:49.190276Z"
        },
        "trusted": true,
        "colab": {
          "base_uri": "https://localhost:8080/"
        }
      },
      "execution_count": 19,
      "outputs": [
        {
          "output_type": "stream",
          "name": "stdout",
          "text": [
            "cpu\n"
          ]
        }
      ]
    },
    {
      "cell_type": "code",
      "source": [
        "train_dataset_path = \"/content/train_task_b_only_with_emojis_removed.txt\"\n",
        "test_dataset_path = \"/content/test_task_b_only_with_emojis_removed.txt\""
      ],
      "metadata": {
        "id": "g0o65_84CL1Q",
        "pycharm": {
          "name": "#%%\n"
        },
        "execution": {
          "iopub.status.busy": "2022-05-21T18:49:49.192068Z",
          "iopub.execute_input": "2022-05-21T18:49:49.194528Z",
          "iopub.status.idle": "2022-05-21T18:49:49.199413Z",
          "shell.execute_reply.started": "2022-05-21T18:49:49.194490Z",
          "shell.execute_reply": "2022-05-21T18:49:49.198718Z"
        },
        "trusted": true
      },
      "execution_count": 20,
      "outputs": []
    },
    {
      "cell_type": "code",
      "execution_count": 21,
      "outputs": [
        {
          "output_type": "execute_result",
          "data": {
            "text/plain": [
              "     index  label                                               text\n",
              "395   3713      1  Tryna learn to skate tonight! #pennyboard #ska...\n",
              "3       28      0                 The rain has made extra extra lazy\n",
              "18     168      0  @SincerelyTumblr: One day I want to travel wit...\n",
              "131   1176      0  Currently a bus wanker. I hate people  #stinks...\n",
              "118   1089      1  Hi Orgabeh, so we meet again. I think you're m..."
            ],
            "text/html": [
              "\n",
              "  <div id=\"df-6fb886d3-b6b1-47eb-874c-0354ec6e81fc\">\n",
              "    <div class=\"colab-df-container\">\n",
              "      <div>\n",
              "<style scoped>\n",
              "    .dataframe tbody tr th:only-of-type {\n",
              "        vertical-align: middle;\n",
              "    }\n",
              "\n",
              "    .dataframe tbody tr th {\n",
              "        vertical-align: top;\n",
              "    }\n",
              "\n",
              "    .dataframe thead th {\n",
              "        text-align: right;\n",
              "    }\n",
              "</style>\n",
              "<table border=\"1\" class=\"dataframe\">\n",
              "  <thead>\n",
              "    <tr style=\"text-align: right;\">\n",
              "      <th></th>\n",
              "      <th>index</th>\n",
              "      <th>label</th>\n",
              "      <th>text</th>\n",
              "    </tr>\n",
              "  </thead>\n",
              "  <tbody>\n",
              "    <tr>\n",
              "      <th>395</th>\n",
              "      <td>3713</td>\n",
              "      <td>1</td>\n",
              "      <td>Tryna learn to skate tonight! #pennyboard #ska...</td>\n",
              "    </tr>\n",
              "    <tr>\n",
              "      <th>3</th>\n",
              "      <td>28</td>\n",
              "      <td>0</td>\n",
              "      <td>The rain has made extra extra lazy</td>\n",
              "    </tr>\n",
              "    <tr>\n",
              "      <th>18</th>\n",
              "      <td>168</td>\n",
              "      <td>0</td>\n",
              "      <td>@SincerelyTumblr: One day I want to travel wit...</td>\n",
              "    </tr>\n",
              "    <tr>\n",
              "      <th>131</th>\n",
              "      <td>1176</td>\n",
              "      <td>0</td>\n",
              "      <td>Currently a bus wanker. I hate people  #stinks...</td>\n",
              "    </tr>\n",
              "    <tr>\n",
              "      <th>118</th>\n",
              "      <td>1089</td>\n",
              "      <td>1</td>\n",
              "      <td>Hi Orgabeh, so we meet again. I think you're m...</td>\n",
              "    </tr>\n",
              "  </tbody>\n",
              "</table>\n",
              "</div>\n",
              "      <button class=\"colab-df-convert\" onclick=\"convertToInteractive('df-6fb886d3-b6b1-47eb-874c-0354ec6e81fc')\"\n",
              "              title=\"Convert this dataframe to an interactive table.\"\n",
              "              style=\"display:none;\">\n",
              "        \n",
              "  <svg xmlns=\"http://www.w3.org/2000/svg\" height=\"24px\"viewBox=\"0 0 24 24\"\n",
              "       width=\"24px\">\n",
              "    <path d=\"M0 0h24v24H0V0z\" fill=\"none\"/>\n",
              "    <path d=\"M18.56 5.44l.94 2.06.94-2.06 2.06-.94-2.06-.94-.94-2.06-.94 2.06-2.06.94zm-11 1L8.5 8.5l.94-2.06 2.06-.94-2.06-.94L8.5 2.5l-.94 2.06-2.06.94zm10 10l.94 2.06.94-2.06 2.06-.94-2.06-.94-.94-2.06-.94 2.06-2.06.94z\"/><path d=\"M17.41 7.96l-1.37-1.37c-.4-.4-.92-.59-1.43-.59-.52 0-1.04.2-1.43.59L10.3 9.45l-7.72 7.72c-.78.78-.78 2.05 0 2.83L4 21.41c.39.39.9.59 1.41.59.51 0 1.02-.2 1.41-.59l7.78-7.78 2.81-2.81c.8-.78.8-2.07 0-2.86zM5.41 20L4 18.59l7.72-7.72 1.47 1.35L5.41 20z\"/>\n",
              "  </svg>\n",
              "      </button>\n",
              "      \n",
              "  <style>\n",
              "    .colab-df-container {\n",
              "      display:flex;\n",
              "      flex-wrap:wrap;\n",
              "      gap: 12px;\n",
              "    }\n",
              "\n",
              "    .colab-df-convert {\n",
              "      background-color: #E8F0FE;\n",
              "      border: none;\n",
              "      border-radius: 50%;\n",
              "      cursor: pointer;\n",
              "      display: none;\n",
              "      fill: #1967D2;\n",
              "      height: 32px;\n",
              "      padding: 0 0 0 0;\n",
              "      width: 32px;\n",
              "    }\n",
              "\n",
              "    .colab-df-convert:hover {\n",
              "      background-color: #E2EBFA;\n",
              "      box-shadow: 0px 1px 2px rgba(60, 64, 67, 0.3), 0px 1px 3px 1px rgba(60, 64, 67, 0.15);\n",
              "      fill: #174EA6;\n",
              "    }\n",
              "\n",
              "    [theme=dark] .colab-df-convert {\n",
              "      background-color: #3B4455;\n",
              "      fill: #D2E3FC;\n",
              "    }\n",
              "\n",
              "    [theme=dark] .colab-df-convert:hover {\n",
              "      background-color: #434B5C;\n",
              "      box-shadow: 0px 1px 3px 1px rgba(0, 0, 0, 0.15);\n",
              "      filter: drop-shadow(0px 1px 2px rgba(0, 0, 0, 0.3));\n",
              "      fill: #FFFFFF;\n",
              "    }\n",
              "  </style>\n",
              "\n",
              "      <script>\n",
              "        const buttonEl =\n",
              "          document.querySelector('#df-6fb886d3-b6b1-47eb-874c-0354ec6e81fc button.colab-df-convert');\n",
              "        buttonEl.style.display =\n",
              "          google.colab.kernel.accessAllowed ? 'block' : 'none';\n",
              "\n",
              "        async function convertToInteractive(key) {\n",
              "          const element = document.querySelector('#df-6fb886d3-b6b1-47eb-874c-0354ec6e81fc');\n",
              "          const dataTable =\n",
              "            await google.colab.kernel.invokeFunction('convertToInteractive',\n",
              "                                                     [key], {});\n",
              "          if (!dataTable) return;\n",
              "\n",
              "          const docLinkHtml = 'Like what you see? Visit the ' +\n",
              "            '<a target=\"_blank\" href=https://colab.research.google.com/notebooks/data_table.ipynb>data table notebook</a>'\n",
              "            + ' to learn more about interactive tables.';\n",
              "          element.innerHTML = '';\n",
              "          dataTable['output_type'] = 'display_data';\n",
              "          await google.colab.output.renderOutput(dataTable, element);\n",
              "          const docLink = document.createElement('div');\n",
              "          docLink.innerHTML = docLinkHtml;\n",
              "          element.appendChild(docLink);\n",
              "        }\n",
              "      </script>\n",
              "    </div>\n",
              "  </div>\n",
              "  "
            ]
          },
          "metadata": {},
          "execution_count": 21
        }
      ],
      "source": [
        "train_df = pd.read_csv(train_dataset_path, sep=\"\\t\")\n",
        "test_df = pd.read_csv(test_dataset_path, sep=\"\\t\")\n",
        "train_df, validation_df = train_test_split(train_df, test_size=0.2)\n",
        "\n",
        "train_df.head()"
      ],
      "metadata": {
        "pycharm": {
          "name": "#%%\n"
        },
        "colab": {
          "base_uri": "https://localhost:8080/",
          "height": 206
        },
        "id": "EJmEdga0-GrN",
        "outputId": "fded271e-4df1-41fa-ff45-d5855d821906"
      }
    },
    {
      "cell_type": "code",
      "execution_count": 22,
      "outputs": [
        {
          "output_type": "execute_result",
          "data": {
            "text/plain": [
              "<matplotlib.axes._subplots.AxesSubplot at 0x7fea9f6ec2d0>"
            ]
          },
          "metadata": {},
          "execution_count": 22
        },
        {
          "output_type": "display_data",
          "data": {
            "text/plain": [
              "<Figure size 432x288 with 1 Axes>"
            ],
            "image/png": "[encoded data removed]"
          },
          "metadata": {
            "needs_background": "light"
          }
        }
      ],
      "source": [
        "value_counts = train_df[\"label\"].value_counts()\n",
        "sns.barplot(value_counts.index, value_counts)"
      ],
      "metadata": {
        "pycharm": {
          "name": "#%%\n"
        },
        "colab": {
          "base_uri": "https://localhost:8080/",
          "height": 282
        },
        "id": "puTJQBxk-GrN",
        "outputId": "2f07df4e-7e90-4ad6-f72e-ab37c2113d41"
      }
    },
    {
      "cell_type": "code",
      "source": [
        "class SarcasticSentenceDataset(Dataset):\n",
        "    def __init__(self, sentences, labels, tokenizer, max_len=128):\n",
        "        if len(sentences) != len(labels):\n",
        "            raise ValueError(\"Sentences and labels should have the same number of elements.\")\n",
        "\n",
        "        self.sentences = sentences\n",
        "        self.labels = labels\n",
        "        self.tokenizer = tokenizer\n",
        "        self.max_len = max_len\n",
        "\n",
        "    def __getitem__(self, index: int):\n",
        "        inputs = self.tokenizer(self.sentences[index],\n",
        "                                truncation=True,\n",
        "                                pad_to_max_length=True,\n",
        "                                return_tensors=\"pt\",\n",
        "                                max_length=self.max_len)\n",
        "\n",
        "        return {\n",
        "            \"input_ids\": inputs[\"input_ids\"].squeeze(),\n",
        "            \"attention_mask\": inputs[\"attention_mask\"].squeeze(),\n",
        "            \"labels\": torch.tensor(self.labels[index], dtype=torch.long)\n",
        "        }\n",
        "\n",
        "    def __len__(self):\n",
        "        return len(self.sentences)"
      ],
      "metadata": {
        "id": "N6NpDZwDCX36",
        "pycharm": {
          "name": "#%%\n"
        },
        "execution": {
          "iopub.status.busy": "2022-05-21T18:49:49.250849Z",
          "iopub.execute_input": "2022-05-21T18:49:49.251378Z",
          "iopub.status.idle": "2022-05-21T18:49:49.275010Z",
          "shell.execute_reply.started": "2022-05-21T18:49:49.251341Z",
          "shell.execute_reply": "2022-05-21T18:49:49.274350Z"
        },
        "trusted": true
      },
      "execution_count": 23,
      "outputs": []
    },
    {
      "cell_type": "code",
      "execution_count": 24,
      "outputs": [],
      "source": [
        "tokenizer = AutoTokenizer.from_pretrained(\"distilbert-base-uncased\", normalization=True)"
      ],
      "metadata": {
        "pycharm": {
          "name": "#%%\n"
        },
        "id": "Z7WupxO2-GrP"
      }
    },
    {
      "cell_type": "code",
      "execution_count": 25,
      "outputs": [],
      "source": [
        "train_dataset = SarcasticSentenceDataset(sentences=train_df[\"text\"].tolist(),\n",
        "                                         labels=train_df[\"label\"].tolist(),\n",
        "                                         tokenizer=tokenizer)\n",
        "\n",
        "validation_dataset = SarcasticSentenceDataset(sentences=validation_df[\"text\"].tolist(),\n",
        "                                         labels=validation_df[\"label\"].tolist(),\n",
        "                                         tokenizer=tokenizer)\n",
        "\n",
        "test_dataset = SarcasticSentenceDataset(sentences=test_df[\"text\"].tolist(),\n",
        "                                        labels=test_df[\"label\"].tolist(),\n",
        "                                        tokenizer=tokenizer)"
      ],
      "metadata": {
        "pycharm": {
          "name": "#%%\n"
        },
        "id": "N1XsctAa-GrP"
      }
    },
    {
      "cell_type": "code",
      "execution_count": 26,
      "outputs": [],
      "source": [
        "train_loader = DataLoader(train_dataset, batch_size=8, shuffle=True)\n",
        "validation_loader = DataLoader(validation_dataset, batch_size=8)\n",
        "test_loader = DataLoader(test_dataset, batch_size=8)"
      ],
      "metadata": {
        "pycharm": {
          "name": "#%%\n"
        },
        "id": "OP5Tukq4-GrQ"
      }
    },
    {
      "cell_type": "code",
      "source": [
        "from tqdm.auto import tqdm\n",
        "import copy\n",
        "\n",
        "\n",
        "def train(model,\n",
        "          train_loader,\n",
        "          eval_loader,\n",
        "          device,\n",
        "          lr=5e-5,\n",
        "          num_epochs=5):\n",
        "    num_training_steps = len(train_loader) * num_epochs\n",
        "    optimizer, lr_scheduler = setup_optimizer_and_scheduler(model,\n",
        "                                                            lr,\n",
        "                                                            0,\n",
        "                                                            num_training_steps)\n",
        "\n",
        "    progress_bar = tqdm(range(num_training_steps))\n",
        "\n",
        "    best_f1 = 0\n",
        "    best_epoch = -1\n",
        "    best_params = copy.deepcopy(model.state_dict())\n",
        "    patience = 0\n",
        "\n",
        "    for epoch in range(num_epochs):\n",
        "        model.train()\n",
        "        for batch in train_loader:\n",
        "            batch = {k: v.to(device) for k, v in batch.items()}\n",
        "\n",
        "            outputs = model(**batch)\n",
        "            loss = outputs.loss\n",
        "            loss.backward()\n",
        "\n",
        "            optimizer.step()\n",
        "            lr_scheduler.step()\n",
        "            optimizer.zero_grad()\n",
        "\n",
        "            progress_bar.update(1)\n",
        "\n",
        "        metrics = evaluate(model, eval_loader, device)\n",
        "        print(f\"validation accuracy: {metrics['accuracy']}\\n\"\n",
        "              f\"validation precision: {metrics['precision']}\\n\"\n",
        "              f\"validation recall: {metrics['recall']}\\n\"\n",
        "              f\"validation f1: {metrics['f1']}\\n\")\n",
        "\n",
        "        if metrics[\"f1\"] > best_f1:\n",
        "            best_f1 = metrics[\"f1\"]\n",
        "            best_epoch = epoch\n",
        "            best_params = copy.deepcopy(model.state_dict())\n",
        "            patience = 0\n",
        "        else:\n",
        "            patience += 1\n",
        "\n",
        "        print(f\"patience: {patience}\\n\")\n",
        "        if patience == 3:\n",
        "            break\n",
        "\n",
        "    print(f\"best epoch: {best_epoch}\\n\"\n",
        "          f\"best f1: {best_f1}\\n\")\n",
        "\n",
        "    model.load_state_dict(best_params)\n",
        "    return model\n",
        "\n",
        "\n",
        "def setup_optimizer_and_scheduler(model, lr, num_warmup_steps, num_training_steps):\n",
        "    optimizer = AdamW(model.parameters(), lr=lr)\n",
        "    scheduler = get_scheduler(name=\"linear\",\n",
        "                              optimizer=optimizer,\n",
        "                              num_warmup_steps=num_warmup_steps,\n",
        "                              num_training_steps=num_training_steps)\n",
        "    return optimizer, scheduler\n",
        "\n",
        "\n",
        "def evaluate(model, eval_loader, device):\n",
        "    model.eval()\n",
        "    labels_list = []\n",
        "    preds_list = []\n",
        "    with torch.no_grad():\n",
        "        for batch in eval_loader:\n",
        "            batch = {k: v.to(device) for k, v in batch.items()}\n",
        "\n",
        "            outputs = model(**batch)\n",
        "            _, preds = torch.max(outputs.logits, dim=1, keepdim=False)\n",
        "            labels_list.extend(batch[\"labels\"].cpu().numpy().tolist())\n",
        "            preds_list.extend(preds.cpu().numpy().tolist())\n",
        "\n",
        "    return compute_metrics(labels_list, preds_list)\n",
        "\n",
        "\n",
        "def compute_metrics(y_true, y_pred):\n",
        "    precision, recall, f1, _ = precision_recall_fscore_support(y_true, y_pred, average=\"macro\")\n",
        "    return {\n",
        "        \"accuracy\": accuracy_score(y_true, y_pred),\n",
        "        \"precision\": precision,\n",
        "        \"recall\": recall,\n",
        "        \"f1\": f1,\n",
        "        \"confusion_matrix\": confusion_matrix(y_true, y_pred)\n",
        "    }"
      ],
      "metadata": {
        "id": "CctgAwF_Ca3P",
        "pycharm": {
          "name": "#%%\n"
        },
        "execution": {
          "iopub.status.busy": "2022-05-21T18:52:19.141602Z",
          "iopub.execute_input": "2022-05-21T18:52:19.141857Z",
          "iopub.status.idle": "2022-05-21T18:52:19.159162Z",
          "shell.execute_reply.started": "2022-05-21T18:52:19.141831Z",
          "shell.execute_reply": "2022-05-21T18:52:19.158228Z"
        },
        "trusted": true
      },
      "execution_count": 27,
      "outputs": []
    },
    {
      "cell_type": "code",
      "source": [
        "model = AutoModelForSequenceClassification.from_pretrained(\"distilbert-base-uncased\", num_labels=4).to(device)"
      ],
      "metadata": {
        "id": "w09PJ_ErDEoW",
        "outputId": "d30b4e23-dc23-423d-8520-dbbc28662585",
        "pycharm": {
          "name": "#%%\n"
        },
        "execution": {
          "iopub.status.busy": "2022-05-21T18:52:34.547880Z",
          "iopub.execute_input": "2022-05-21T18:52:34.548194Z",
          "iopub.status.idle": "2022-05-21T18:52:37.253410Z",
          "shell.execute_reply.started": "2022-05-21T18:52:34.548160Z",
          "shell.execute_reply": "2022-05-21T18:52:37.252659Z"
        },
        "trusted": true,
        "colab": {
          "base_uri": "https://localhost:8080/"
        }
      },
      "execution_count": 28,
      "outputs": [
        {
          "output_type": "stream",
          "name": "stderr",
          "text": [
            "Some weights of the model checkpoint at distilbert-base-uncased were not used when initializing DistilBertForSequenceClassification: ['vocab_projector.weight', 'vocab_transform.weight', 'vocab_layer_norm.weight', 'vocab_projector.bias', 'vocab_layer_norm.bias', 'vocab_transform.bias']\n",
            "- This IS expected if you are initializing DistilBertForSequenceClassification from the checkpoint of a model trained on another task or with another architecture (e.g. initializing a BertForSequenceClassification model from a BertForPreTraining model).\n",
            "- This IS NOT expected if you are initializing DistilBertForSequenceClassification from the checkpoint of a model that you expect to be exactly identical (initializing a BertForSequenceClassification model from a BertForSequenceClassification model).\n",
            "Some weights of DistilBertForSequenceClassification were not initialized from the model checkpoint at distilbert-base-uncased and are newly initialized: ['pre_classifier.bias', 'classifier.weight', 'classifier.bias', 'pre_classifier.weight']\n",
            "You should probably TRAIN this model on a down-stream task to be able to use it for predictions and inference.\n"
          ]
        }
      ]
    },
    {
      "cell_type": "code",
      "source": [
        "model = train(model,\n",
        "              train_loader,\n",
        "              validation_loader,\n",
        "              device,\n",
        "              num_epochs=10,\n",
        "              lr=5e-5)"
      ],
      "metadata": {
        "id": "CjgEYmySDHT-",
        "outputId": "1a7c4e52-17c4-41af-d916-7f816388842c",
        "pycharm": {
          "name": "#%%\n"
        },
        "execution": {
          "iopub.status.busy": "2022-05-21T18:52:40.856081Z",
          "iopub.execute_input": "2022-05-21T18:52:40.856509Z",
          "iopub.status.idle": "2022-05-21T19:01:47.461177Z",
          "shell.execute_reply.started": "2022-05-21T18:52:40.856474Z",
          "shell.execute_reply": "2022-05-21T19:01:47.460442Z"
        },
        "trusted": true,
        "colab": {
          "base_uri": "https://localhost:8080/",
          "height": 1000,
          "referenced_widgets": [
            "09fd21f674f943baaccbb0baf5606180",
            "d436367c0ff34aa2ab8e0acad0d0cf51",
            "6071eb8c5ecd42388dbf45d802755a2b",
            "eba736532d2140abb72a110252efead4",
            "d24a7eeb94ba4b60b30dbe48de13e20c",
            "b8739cbbdbd248608be4160043c4933a",
            "31af12ebcd764726abe380c3e59487f2",
            "7b46c37a50c34a76bda1ad2b3867b852",
            "bbdc493e3e7b4cd49c5eaee063ee0f35",
            "e3da9ab966484aecb4441c4075cfc0b5",
            "3d7bd7a6da5048e8a90153658341542a"
          ]
        }
      },
      "execution_count": 29,
      "outputs": [
        {
          "data": {
            "application/vnd.jupyter.widget-view+json": {
              "model_id": "09fd21f674f943baaccbb0baf5606180",
              "version_major": 2,
              "version_minor": 0
            },
            "text/plain": [
              "  0%|          | 0/410 [00:00<?, ?it/s]"
            ]
          },
          "metadata": {},
          "output_type": "display_data"
        },
        {
          "output_type": "stream",
          "name": "stdout",
          "text": [
            "validation accuracy: 0.6829268292682927\n",
            "validation precision: 0.46340960626674915\n",
            "validation recall: 0.46820929747759016\n",
            "validation f1: 0.4600737100737102\n",
            "\n",
            "patience: 0\n",
            "\n",
            "validation accuracy: 0.6829268292682927\n",
            "validation precision: 0.49336455893832937\n",
            "validation recall: 0.4627892432770482\n",
            "validation f1: 0.44836601307189544\n",
            "\n",
            "patience: 1\n",
            "\n",
            "validation accuracy: 0.6707317073170732\n",
            "validation precision: 0.45646215475437485\n",
            "validation recall: 0.4604961434229727\n",
            "validation f1: 0.45\n",
            "\n",
            "patience: 2\n",
            "\n",
            "validation accuracy: 0.7195121951219512\n",
            "validation precision: 0.48708333333333337\n",
            "validation recall: 0.490097977902856\n",
            "validation f1: 0.48382603312180783\n",
            "\n",
            "patience: 0\n",
            "\n",
            "validation accuracy: 0.7560975609756098\n",
            "validation precision: 0.5347368421052632\n",
            "validation recall: 0.5136543673129039\n",
            "validation f1: 0.504889455782313\n",
            "\n",
            "patience: 0\n",
            "\n",
            "validation accuracy: 0.7682926829268293\n",
            "validation precision: 0.5260683760683761\n",
            "validation recall: 0.5230352303523035\n",
            "validation f1: 0.5164407043789933\n",
            "\n",
            "patience: 0\n",
            "\n",
            "validation accuracy: 0.7926829268292683\n",
            "validation precision: 0.5383333333333333\n",
            "validation recall: 0.5401292474463206\n",
            "validation f1: 0.5339730691843368\n",
            "\n",
            "patience: 0\n",
            "\n",
            "validation accuracy: 0.8048780487804879\n",
            "validation precision: 0.5446299732014017\n",
            "validation recall: 0.5486762559933291\n",
            "validation f1: 0.5425925925925926\n",
            "\n",
            "patience: 0\n",
            "\n",
            "validation accuracy: 0.8048780487804879\n",
            "validation precision: 0.5446299732014017\n",
            "validation recall: 0.5486762559933291\n",
            "validation f1: 0.5425925925925926\n",
            "\n",
            "patience: 1\n",
            "\n",
            "validation accuracy: 0.7926829268292683\n",
            "validation precision: 0.5383333333333333\n",
            "validation recall: 0.5401292474463206\n",
            "validation f1: 0.5339730691843368\n",
            "\n",
            "patience: 2\n",
            "\n",
            "best epoch: 7\n",
            "best f1: 0.5425925925925926\n",
            "\n"
          ]
        }
      ]
    },
    {
      "cell_type": "code",
      "source": [
        "metrics = evaluate(model, test_loader, device)\n",
        "print(f\"test accuracy: {metrics['accuracy']}\\n\"\n",
        "      f\"test precision: {metrics['precision']}\\n\"\n",
        "      f\"test recall: {metrics['recall']}\\n\"\n",
        "      f\"test f1: {metrics['f1']}\\n\")\n",
        "\n",
        "sns.heatmap(metrics[\"confusion_matrix\"], annot=True, cmap='Blues', fmt=\"d\")"
      ],
      "metadata": {
        "id": "jOrhnWfiDRZF",
        "outputId": "7b7ec447-e23e-4650-f191-2f415cb3857e",
        "pycharm": {
          "name": "#%%\n"
        },
        "execution": {
          "iopub.status.busy": "2022-05-21T19:03:00.922984Z",
          "iopub.execute_input": "2022-05-21T19:03:00.923257Z",
          "iopub.status.idle": "2022-05-21T19:03:04.803831Z",
          "shell.execute_reply.started": "2022-05-21T19:03:00.923228Z",
          "shell.execute_reply": "2022-05-21T19:03:04.803186Z"
        },
        "trusted": true,
        "colab": {
          "base_uri": "https://localhost:8080/",
          "height": 369
        }
      },
      "execution_count": 30,
      "outputs": [
        {
          "output_type": "stream",
          "name": "stdout",
          "text": [
            "test accuracy: 0.7272727272727273\n",
            "test precision: 0.3572916666666667\n",
            "test recall: 0.3993265993265993\n",
            "test f1: 0.3706709172583683\n",
            "\n"
          ]
        },
        {
          "output_type": "execute_result",
          "data": {
            "text/plain": [
              "<matplotlib.axes._subplots.AxesSubplot at 0x7fea9f575a90>"
            ]
          },
          "metadata": {},
          "execution_count": 30
        },
        {
          "output_type": "display_data",
          "data": {
            "text/plain": [
              "<Figure size 432x288 with 2 Axes>"
            ],
            "image/png": "[encoded data removed]"
          },
          "metadata": {
            "needs_background": "light"
          }
        }
      ]
    },
    {
      "cell_type": "code",
      "source": [
        "from transformers_interpret import MultiLabelClassificationExplainer\n",
        "\n",
        "cls_explainer = MultiLabelClassificationExplainer(model, tokenizer)\n",
        "word_attributions = cls_explainer(\"Perfect time to get really sick  😫😷\")\n",
        "cls_explainer.visualize()"
      ],
      "metadata": {
        "pycharm": {
          "name": "#%%\n"
        },
        "jupyter": {
          "outputs_hidden": false
        },
        "execution": {
          "iopub.status.busy": "2022-05-21T19:09:06.481994Z",
          "iopub.execute_input": "2022-05-21T19:09:06.482287Z",
          "iopub.status.idle": "2022-05-21T19:09:06.880337Z",
          "shell.execute_reply.started": "2022-05-21T19:09:06.482254Z",
          "shell.execute_reply": "2022-05-21T19:09:06.879683Z"
        },
        "trusted": true,
        "id": "0jLBay74-GrT"
      },
      "execution_count": null,
      "outputs": []
    },
    {
      "cell_type": "code",
      "source": [
        "torch.save(model.state_dict(), \"model.pth\")\n",
        "print(\"model params saved\")"
      ],
      "metadata": {
        "id": "xLybru06DVtn",
        "outputId": "045b338e-809d-4fff-adf1-3e9c6d024ef8",
        "pycharm": {
          "name": "#%%\n"
        },
        "colab": {
          "base_uri": "https://localhost:8080/"
        }
      },
      "execution_count": 32,
      "outputs": [
        {
          "metadata": {
            "tags": null
          },
          "name": "stdout",
          "output_type": "stream",
          "text": [
            "model params saved\n"
          ]
        }
      ]
    }
  ]
}