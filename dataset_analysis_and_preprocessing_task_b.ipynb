{
 "cells": [
  {
   "cell_type": "code",
   "execution_count": 86,
   "metadata": {
    "collapsed": true,
    "pycharm": {
     "name": "#%%\n"
    }
   },
   "outputs": [],
   "source": [
    "import numpy as np\n",
    "import pandas as pd\n",
    "import seaborn as sns\n",
    "from matplotlib import pyplot as plt\n",
    "import emoji\n",
    "from emosent import get_emoji_sentiment_rank"
   ]
  },
  {
   "cell_type": "code",
   "execution_count": 87,
   "outputs": [],
   "source": [
    "train_dataset_path = \"datasets/train_task_b_full.txt\"\n",
    "test_dataset_path = \"datasets/test_task_b_full.txt\""
   ],
   "metadata": {
    "collapsed": false,
    "pycharm": {
     "name": "#%%\n"
    }
   }
  },
  {
   "cell_type": "code",
   "execution_count": 88,
   "outputs": [],
   "source": [
    "train_df = pd.read_csv(train_dataset_path, sep=\"\\t\")\n",
    "train_df.rename(columns={\"Tweet Index\": \"index\", \"Label\": \"label\", \"Tweet text\": \"text\"},\n",
    "                inplace=True)\n",
    "\n",
    "test_df = pd.read_csv(test_dataset_path, sep=\"\\t\")\n",
    "test_df.rename(columns={\"Tweet index\": \"index\", \"Label\": \"label\", \"Tweet text\": \"text\"},\n",
    "               inplace=True)"
   ],
   "metadata": {
    "collapsed": false,
    "pycharm": {
     "name": "#%%\n"
    }
   }
  },
  {
   "cell_type": "code",
   "execution_count": 89,
   "outputs": [
    {
     "name": "stderr",
     "output_type": "stream",
     "text": [
      "C:\\Users\\andri\\Projects\\FER-TAR\\venv\\lib\\site-packages\\seaborn\\_decorators.py:36: FutureWarning: Pass the following variables as keyword args: x, y. From version 0.12, the only valid positional argument will be `data`, and passing other arguments without an explicit keyword will result in an error or misinterpretation.\n",
      "  warnings.warn(\n"
     ]
    },
    {
     "data": {
      "text/plain": "<AxesSubplot:ylabel='label'>"
     },
     "execution_count": 89,
     "metadata": {},
     "output_type": "execute_result"
    },
    {
     "data": {
      "text/plain": "<Figure size 432x288 with 1 Axes>",
      "image/png": "[encoded data removed]"
     },
     "metadata": {},
     "output_type": "display_data"
    }
   ],
   "source": [
    "value_counts = train_df[\"label\"].value_counts()\n",
    "sns.barplot(value_counts.index, value_counts)"
   ],
   "metadata": {
    "collapsed": false,
    "pycharm": {
     "name": "#%%\n"
    }
   }
  },
  {
   "cell_type": "code",
   "execution_count": 90,
   "outputs": [],
   "source": [
    "train_df[\"word_count\"] = train_df[\"text\"].apply(lambda x: len(x.split()))"
   ],
   "metadata": {
    "collapsed": false,
    "pycharm": {
     "name": "#%%\n"
    }
   }
  },
  {
   "cell_type": "code",
   "execution_count": 91,
   "outputs": [
    {
     "data": {
      "text/plain": "<Figure size 720x288 with 4 Axes>",
      "image/png": "[encoded data removed]"
     },
     "metadata": {},
     "output_type": "display_data"
    }
   ],
   "source": [
    "fig, (ax1, ax2, ax3, ax4) = plt.subplots(1, 4, figsize=(10, 4))\n",
    "fig.suptitle(\"Words per tweet\")\n",
    "\n",
    "train_emojis = train_df[train_df[\"label\"] == 0]\n",
    "train_emojis = train_emojis[train_emojis[\"word_count\"] < 50][\"word_count\"]\n",
    "ax1.hist(train_emojis)\n",
    "ax1.set_title(\"not ironic\")\n",
    "\n",
    "train_emojis = train_df[train_df[\"label\"] == 1]\n",
    "train_emojis = train_emojis[train_emojis[\"word_count\"] < 50][\"word_count\"]\n",
    "ax2.hist(train_emojis)\n",
    "ax2.set_title(\"ironic by clash\")\n",
    "\n",
    "train_emojis = train_df[train_df[\"label\"] == 2]\n",
    "train_emojis = train_emojis[train_emojis[\"word_count\"] < 50][\"word_count\"]\n",
    "ax3.hist(train_emojis)\n",
    "ax3.set_title(\"situational irony\")\n",
    "\n",
    "train_emojis = train_df[train_df[\"label\"] == 3]\n",
    "train_emojis = train_emojis[train_emojis[\"word_count\"] < 50][\"word_count\"]\n",
    "ax4.hist(train_emojis)\n",
    "ax4.set_title(\"other irony\")\n",
    "\n",
    "plt.show()"
   ],
   "metadata": {
    "collapsed": false,
    "pycharm": {
     "name": "#%%\n"
    }
   }
  },
  {
   "cell_type": "code",
   "execution_count": 92,
   "outputs": [
    {
     "name": "stdout",
     "output_type": "stream",
     "text": [
      "mean word count not ironic:  13.916492693110648\n",
      "mean word count ironic by clash:  13.02241503976862\n",
      "mean word count situational irony:  16.645569620253166\n",
      "mean word count other irony:  13.51980198019802\n"
     ]
    }
   ],
   "source": [
    "print(\"mean word count not ironic: \", train_df[train_df[\"label\"] == 0][\"word_count\"].mean())\n",
    "print(\"mean word count ironic by clash: \", train_df[train_df[\"label\"] == 1][\"word_count\"].mean())\n",
    "print(\"mean word count situational irony: \", train_df[train_df[\"label\"] == 2][\"word_count\"].mean())\n",
    "print(\"mean word count other irony: \", train_df[train_df[\"label\"] == 3][\"word_count\"].mean())"
   ],
   "metadata": {
    "collapsed": false,
    "pycharm": {
     "name": "#%%\n"
    }
   }
  },
  {
   "cell_type": "code",
   "execution_count": 93,
   "outputs": [],
   "source": [
    "def extract_emojis(text):\n",
    "    return \"\".join(c for c in text if c in emoji.UNICODE_EMOJI['en'])\n",
    "\n",
    "\n",
    "def has_emojis(text):\n",
    "    return len(extract_emojis(text)) == 0\n",
    "\n",
    "\n",
    "def get_emoji_sentiment_score(emoji):\n",
    "    try:\n",
    "        return get_emoji_sentiment_rank(emoji)[\"sentiment_score\"]\n",
    "    except KeyError:\n",
    "        return None\n",
    "\n",
    "\n",
    "def get_mean_emoji_sentiment_score(emojis):\n",
    "    if len(emojis) == 0:\n",
    "        return np.nan\n",
    "\n",
    "    scores = [get_emoji_sentiment_score(e) for e in emojis]\n",
    "    scores = [s for s in scores if s is not None]\n",
    "    return np.mean(scores)"
   ],
   "metadata": {
    "collapsed": false,
    "pycharm": {
     "name": "#%%\n"
    }
   }
  },
  {
   "cell_type": "code",
   "execution_count": 94,
   "outputs": [],
   "source": [
    "train_df[\"emojis\"] = train_df[\"text\"].apply(extract_emojis)\n",
    "train_df[\"emoji_count\"] = train_df[\"emojis\"].apply(lambda x: len(x))\n",
    "train_df[\"emoji_sentiment_scores\"] = train_df[\"emojis\"].apply(get_mean_emoji_sentiment_score)\n",
    "\n",
    "test_df[\"emojis\"] = test_df[\"text\"].apply(extract_emojis)\n",
    "test_df[\"emoji_count\"] = test_df[\"emojis\"].apply(lambda x: len(x))\n",
    "test_df[\"emoji_sentiment_scores\"] = test_df[\"emojis\"].apply(get_mean_emoji_sentiment_score)"
   ],
   "metadata": {
    "collapsed": false,
    "pycharm": {
     "name": "#%%\n"
    }
   }
  },
  {
   "cell_type": "code",
   "execution_count": 95,
   "outputs": [
    {
     "data": {
      "text/plain": "<Figure size 720x288 with 4 Axes>",
      "image/png": "[encoded data removed]"
     },
     "metadata": {},
     "output_type": "display_data"
    }
   ],
   "source": [
    "fig, (ax1, ax2, ax3, ax4) = plt.subplots(1, 4, figsize=(10, 4))\n",
    "fig.suptitle(\"Emoji count per tweet\")\n",
    "\n",
    "train_emojis = train_df[train_df[\"label\"] == 0]\n",
    "train_emojis = train_emojis[train_emojis[\"emoji_count\"] > 0][\"emoji_count\"]\n",
    "ax1.hist(train_emojis)\n",
    "ax1.set_title(\"not ironic\")\n",
    "\n",
    "train_emojis = train_df[train_df[\"label\"] == 1]\n",
    "train_emojis = train_emojis[train_emojis[\"emoji_count\"] > 0][\"emoji_count\"]\n",
    "ax2.hist(train_emojis)\n",
    "ax2.set_title(\"ironic by clash\")\n",
    "\n",
    "train_emojis = train_df[train_df[\"label\"] == 2]\n",
    "train_emojis = train_emojis[train_emojis[\"emoji_count\"] > 0][\"emoji_count\"]\n",
    "ax3.hist(train_emojis)\n",
    "ax3.set_title(\"situational irony\")\n",
    "\n",
    "train_emojis = train_df[train_df[\"label\"] == 3]\n",
    "train_emojis = train_emojis[train_emojis[\"emoji_count\"] > 0][\"emoji_count\"]\n",
    "ax4.hist(train_emojis)\n",
    "ax4.set_title(\"other irony\")\n",
    "\n",
    "plt.show()"
   ],
   "metadata": {
    "collapsed": false,
    "pycharm": {
     "name": "#%%\n"
    }
   }
  },
  {
   "cell_type": "code",
   "execution_count": 96,
   "outputs": [
    {
     "name": "stdout",
     "output_type": "stream",
     "text": [
      "emoji count not ironic:  0.23799582463465555\n",
      "emoji count ironic by clash:  0.2198120028922632\n",
      "emoji count situational irony:  0.028481012658227847\n",
      "emoji count other irony:  0.054455445544554455\n"
     ]
    }
   ],
   "source": [
    "print(\"emoji count not ironic: \", train_df[train_df[\"label\"] == 0][\"emoji_count\"].mean())\n",
    "print(\"emoji count ironic by clash: \", train_df[train_df[\"label\"] == 1][\"emoji_count\"].mean())\n",
    "print(\"emoji count situational irony: \", train_df[train_df[\"label\"] == 2][\"emoji_count\"].mean())\n",
    "print(\"emoji count other irony: \", train_df[train_df[\"label\"] == 3][\"emoji_count\"].mean())"
   ],
   "metadata": {
    "collapsed": false,
    "pycharm": {
     "name": "#%%\n"
    }
   }
  },
  {
   "cell_type": "code",
   "execution_count": 97,
   "outputs": [
    {
     "data": {
      "text/plain": "<Figure size 720x288 with 4 Axes>",
      "image/png": "[encoded data removed]"
     },
     "metadata": {},
     "output_type": "display_data"
    }
   ],
   "source": [
    "fig, (ax1, ax2, ax3, ax4) = plt.subplots(1, 4, figsize=(10, 4))\n",
    "fig.suptitle(\"Mean emoji sentiment scores per tweet type\")\n",
    "\n",
    "emoji_sentiment_scores = train_df[train_df[\"label\"] == 0][\"emoji_sentiment_scores\"]\n",
    "ax1.hist(emoji_sentiment_scores[emoji_sentiment_scores.notnull()], bins=20)\n",
    "ax1.set_title(\"non ironic tweets\")\n",
    "\n",
    "emoji_sentiment_scores = train_df[train_df[\"label\"] == 1][\"emoji_sentiment_scores\"]\n",
    "ax2.hist(emoji_sentiment_scores[emoji_sentiment_scores.notnull()], bins=20)\n",
    "ax2.set_title(\"ironic by clash\")\n",
    "\n",
    "train_emojis = train_df[train_df[\"label\"] == 2]\n",
    "train_emojis = train_emojis[train_emojis[\"emoji_count\"] > 0][\"emoji_sentiment_scores\"]\n",
    "ax3.hist(train_emojis)\n",
    "ax3.set_title(\"situational irony\")\n",
    "\n",
    "train_emojis = train_df[train_df[\"label\"] == 3]\n",
    "train_emojis = train_emojis[train_emojis[\"emoji_count\"] > 0][\"emoji_sentiment_scores\"]\n",
    "ax4.hist(train_emojis)\n",
    "ax4.set_title(\"other irony\")\n",
    "\n",
    "plt.show()"
   ],
   "metadata": {
    "collapsed": false,
    "pycharm": {
     "name": "#%%\n"
    }
   }
  },
  {
   "cell_type": "code",
   "execution_count": 98,
   "outputs": [
    {
     "name": "stdout",
     "output_type": "stream",
     "text": [
      "emoji sentiment score not ironic:  0.32410815295815293\n",
      "emoji sentiment score ironic by clash:  0.13608343904038347\n",
      "emoji sentiment score situational irony:  0.15057142857142858\n",
      "emoji sentiment score other irony:  0.21558333333333335\n"
     ]
    }
   ],
   "source": [
    "print(\"emoji sentiment score not ironic: \",\n",
    "      np.nanmean(train_df[train_df[\"label\"] == 0][\"emoji_sentiment_scores\"]))\n",
    "print(\"emoji sentiment score ironic by clash: \",\n",
    "      np.nanmean(train_df[train_df[\"label\"] == 1][\"emoji_sentiment_scores\"]))\n",
    "print(\"emoji sentiment score situational irony: \",\n",
    "      np.nanmean(train_df[train_df[\"label\"] == 2][\"emoji_sentiment_scores\"]))\n",
    "print(\"emoji sentiment score other irony: \",\n",
    "      np.nanmean(train_df[train_df[\"label\"] == 3][\"emoji_sentiment_scores\"]))"
   ],
   "metadata": {
    "collapsed": false,
    "pycharm": {
     "name": "#%%\n"
    }
   }
  },
  {
   "cell_type": "code",
   "execution_count": 99,
   "outputs": [],
   "source": [
    "def remove_emojis(text):\n",
    "    return \"\".join(c for c in text if c not in emoji.UNICODE_EMOJI['en'])"
   ],
   "metadata": {
    "collapsed": false,
    "pycharm": {
     "name": "#%%\n"
    }
   }
  },
  {
   "cell_type": "code",
   "execution_count": 100,
   "outputs": [],
   "source": [
    "train_df_with_emojis_only = train_df[train_df[\"emoji_count\"] > 0]\n",
    "test_df_with_emojis_only = test_df[test_df[\"emoji_count\"] > 0]"
   ],
   "metadata": {
    "collapsed": false,
    "pycharm": {
     "name": "#%%\n"
    }
   }
  },
  {
   "cell_type": "code",
   "execution_count": 101,
   "outputs": [],
   "source": [
    "train_df_with_emojis_only_removed = train_df_with_emojis_only[[\"index\", \"label\", \"text\"]].copy()\n",
    "train_df_with_emojis_only_removed[\"text\"] = train_df_with_emojis_only_removed[\"text\"].apply(remove_emojis)\n",
    "\n",
    "test_df_with_emojis_only_removed = test_df_with_emojis_only[[\"index\", \"label\", \"text\"]].copy()\n",
    "test_df_with_emojis_only_removed[\"text\"] = test_df_with_emojis_only_removed[\"text\"].apply(remove_emojis)"
   ],
   "metadata": {
    "collapsed": false,
    "pycharm": {
     "name": "#%%\n"
    }
   }
  },
  {
   "cell_type": "code",
   "execution_count": 102,
   "outputs": [],
   "source": [
    "train_df.to_csv(\"datasets/train_task_b_full_analyzed.txt\", sep=\"\\t\", index=False)\n",
    "test_df.to_csv(\"datasets/test_task_b_full_analyzed.txt\", sep=\"\\t\", index=False)\n",
    "\n",
    "train_df_with_emojis_only.to_csv(\"datasets/train_task_b_only_with_emojis_analyzed.txt\", sep=\"\\t\", index=False)\n",
    "test_df_with_emojis_only.to_csv(\"datasets/test_task_b_only_with_emojis_analyzed.txt\", sep=\"\\t\", index=False)\n",
    "\n",
    "train_df_with_emojis_only_removed.to_csv(\"datasets/train_task_b_only_with_emojis_removed.txt\", sep=\"\\t\", index=False)\n",
    "test_df_with_emojis_only_removed.to_csv(\"datasets/test_task_b_only_with_emojis_removed.txt\", sep=\"\\t\", index=False)"
   ],
   "metadata": {
    "collapsed": false,
    "pycharm": {
     "name": "#%%\n"
    }
   }
  },
  {
   "cell_type": "code",
   "execution_count": null,
   "outputs": [],
   "source": [],
   "metadata": {
    "collapsed": false,
    "pycharm": {
     "name": "#%%\n"
    }
   }
  }
 ],
 "metadata": {
  "kernelspec": {
   "display_name": "Python 3",
   "language": "python",
   "name": "python3"
  },
  "language_info": {
   "codemirror_mode": {
    "name": "ipython",
    "version": 2
   },
   "file_extension": ".py",
   "mimetype": "text/x-python",
   "name": "python",
   "nbconvert_exporter": "python",
   "pygments_lexer": "ipython2",
   "version": "2.7.6"
  }
 },
 "nbformat": 4,
 "nbformat_minor": 0
}